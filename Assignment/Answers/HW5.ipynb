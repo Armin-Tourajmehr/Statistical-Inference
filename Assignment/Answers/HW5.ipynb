{
  "nbformat": 4,
  "nbformat_minor": 0,
  "metadata": {
    "colab": {
      "provenance": []
    },
    "kernelspec": {
      "name": "ir",
      "display_name": "R"
    },
    "language_info": {
      "name": "R"
    }
  },
  "cells": [
    {
      "cell_type": "markdown",
      "source": [
        "**<font color='red' size='8px'>Question 1</font>**\n",
        "\n",
        "The General Social Survey asked a random sample of 1,390 Americans the following question: “On the whole, do you think it should or should not be the government’s responsibility to promote equality between men and women?” 82% of the respondents said it “should be”. At a 95% confidence level, this sample has 2% margin of error. Based on this information, determine if the following statements are true or false, and explain your reasoning.\n",
        "\n",
        "**<font color='green' size=6px>Answer 👇:**</font>"
      ],
      "metadata": {
        "id": "FfzGZmhKcrOC"
      }
    },
    {
      "cell_type": "markdown",
      "source": [
        "\n",
        "**<font color='orange' size='6px'>A)</font>**  \n",
        "\n",
        "- **We are 95% confident that between 80% and 84% of Americans in this sample think it’s the government’s responsibility to promote equality between men and women.**\n",
        "  - <font color='red'>**FALSE**</font>\n",
        "    - <font color='blue'>**95% of the confidence we have is about confidence intervals. About the intervals that we make with the sample size of 1390, not about the Americans who are in this sample.**</font>\n",
        "\n",
        "\n",
        "**<font color='orange' size='6px'>B)</font>**  \n",
        "- **We are 95% confident that between 80% and 84% of all Americans think it’s the government’s responsibility to promote equality between men and women.**\n",
        "  - <font color='red'>**FALSE**</font>\n",
        "    - <font color='blue'>**This is cannot be used for entire population. We are not talking about 80% to 84% of Americans. When we say 95% confidence interval, it means 95% of these intervals (80% to 84%) would include the true population proportion of Americans.**</font>\n",
        "\n",
        "**<font color='orange' size='6px'>C)</font>**  \n",
        "- **If we considered many random samples of 1,390 Americans, and we calculated 95% confidence intervals for each, 95% of these intervals would include the true population proportion of Americans who think it’s the government’s responsibility to promote equality between men and women.**\n",
        "  - <font color='green'>**TRUE**</font>\n",
        "    - <font color='blue'>**By the definition of the confidence level. If enough random samples are collected with 95% confidence interval for each, We can be sure that 95% of these intervals contain true population proportion.**</font>\n",
        "\n",
        "**<font color='orange' size='6px'>D)</font>**  \n",
        "- **In order to decrease the margin of error to 1%, we would need to quadruple (multiply by 4) the sample size.**\n",
        "  - <font color='green'>**TRUE**</font>\n",
        "  - <font color='blue'>**ME = z × $\\sqrt{\\frac{p̂(p̂-1)}{𝒏}}$.**</font>\n",
        "  - <font color='blue'>**$\\frac{1}{2}$ME = $\\frac{1}{2}$z × $\\sqrt{\\frac{p̂(p̂-1)}{𝒏}}$**</font>\n",
        "  - <font color='blue'>**$\\frac{1}{2}$ME = z × $\\sqrt{\\frac{p̂(p̂-1)}{4𝒏}}$**</font>\n",
        "  - <font color='blue'>**Quadrupling the sample size decreases the SE and ME $\\frac{1}{\\sqrt4}$.**</font>\n",
        "\n",
        "\n",
        "**<font color='orange' size='6px'>E)</font>**  \n",
        "\n",
        "- **Based on this confidence interval, there is sufficient evidence to conclude that a majority of Americans think it’s the government’s responsibility to promote equality between men and women.**\n",
        "  - <font color='green'>**TRUE**</font>\n",
        "    - <font color='blue'>**The 95% CI is entirely above 50%. On the other hand the lower bound is above 50%.**</font>\n"
      ],
      "metadata": {
        "id": "oGAGCeGnCY4g"
      }
    },
    {
      "cell_type": "markdown",
      "source": [
        "**<font color='red' size='8px'>Question 2</font>**\n",
        "\n",
        "A newspaper collects a simple random sample of 450 likely voters in the district and estimates Toohey's support to be 53%. Does this provide convincing evidence for the claim of Toohey's manager at the 5% significance level?\n",
        "\n",
        "**<font color='green' size=6px>Answer 👇:**</font>"
      ],
      "metadata": {
        "id": "YaTo967i6UPa"
      }
    },
    {
      "cell_type": "markdown",
      "source": [
        "<font color='blue' size='5px'>**Hypothesis:**</font>\n",
        "- **$H_0$** : **𝑷** = **0.5**\n",
        "- **$H_A$** : **𝑷** > **0.5**\n",
        "\n",
        "<font color='blue' size='5px'>**Check Conditions:**</font>\n",
        "\n",
        "- <font color='green'>**Independence:**</font> **450 < 10% of voters and all of them are random.**\n",
        "- <font color='green'>**Sample size/ Skew:**</font> **450 × 0.5 = 225 > 10**\n",
        "  - <font color='purple'>**S-F condition met →nearly normal sampling distribution.**</font>\n",
        "\n",
        "Now calculate **SE** :\n",
        "\n",
        "- **SE** = **$\\sqrt{\\frac{𝑷 × (𝑷 - 1)}{𝐧}}$**\n",
        "- **SE** = **$\\sqrt{\\frac{0.5 × 0.5}{450}}$**\n",
        "- **SE** = <font color='blue'>**0.023**</font>\n",
        "\n",
        "Give information:\n",
        "- **p̂** = **0.53**\n",
        "\n",
        "Let's get **𝒁**:\n",
        "\n",
        "- **𝒁** = **$\\frac{0.53 - 0.5}{0.023}$** = $\\frac{0.03}{0.023}$\n",
        "- **𝒁** ≈ <font color='blue'>**1.30**</font>\n",
        "\n",
        "<font color='blue' size='5px'>**Result:**</font>\n",
        "\n",
        "- **Based on what we calculated, $H_0$ is <font color='red'>rejected.</font> This provides convincing evedence to claim of Toohey's manager.**"
      ],
      "metadata": {
        "id": "bqYnWFhU61uj"
      }
    },
    {
      "cell_type": "markdown",
      "source": [
        "**<font color='red' size='8px'>Question 3</font>**\n",
        "\n",
        "In July 2008, the US National Institutes of Health announced that it was stopping a clinical study early because of unexpected results. The study population consisted of HIV-infected women in sub-Saharan Africa who had been given a single dose of Nevirapine (a treatment for HIV) while giving birth to prevent transmission of HIV to the infant. The study was a randomized comparison of continued treatment of a woman (after successful childbirth) with Nevirapine vs. Lopinavir, a second drug used to treat HIV. 240 women participated in the study; 120 were randomized to each of the two treatments. Twenty-four weeks after starting the study treatment, each woman was tested to determine if the HIV infection was becoming worse (an outcome called virologic failure). 26 of the 120 women treated with Nevirapine experienced virologic failure, while 10 of the 120 women treated with the other drug experienced virologic failure.\n",
        "\n",
        "- **Create a two-way table presenting the results of this study.**\n",
        "- **State appropriate hypotheses to test for difference in virologic failure rates between treatment groups.**\n",
        "- **Complete the hypothesis test and state an appropriate conclusion. (Reminder: Verify any necessary conditions for the test.)**\n",
        "\n",
        "**<font color='green' size=6px>Answer 👇:**</font>"
      ],
      "metadata": {
        "id": "66UYJ87mEeEL"
      }
    },
    {
      "cell_type": "markdown",
      "source": [
        "**<font color='orange' size='6px'>A)</font>**  \n",
        "\n",
        "<font color='blue' size='5px'></font>| <font color='blue' size='5px'>YES </font>| <font color='blue' size='5px'>NO</font> | <font color='blue' size='5px'>TOTAL </font>\n",
        ":---:|:---:|:---:|:---:\n",
        "<font color='blue' size='5px'>**Nevirapine**</font>|<font size='5px'>**26**</font>|<font size='5px'>**94**</font>|<font size='5px'>**120**</font>\n",
        "<font color='blue' size='5px'>**Lopinavir**</font>|<font size='5px'>**10**</font>|<font size='5px'>**110**</font>|<font size='5px'>**120**</font>\n",
        "<font color='red' size='5px'>**Total**</font>|<font size='5px'>**36**</font>|<font size='5px'>**204**</font>|<font size='5px'>**240**</font>\n"
      ],
      "metadata": {
        "id": "-SWzD_JNErPK"
      }
    },
    {
      "cell_type": "markdown",
      "source": [
        "**<font color='orange' size='6px'>B)</font>**  \n",
        "\n",
        "- **$H_0 :$** **$𝑷_N$** = **$𝑷_L$**\n",
        "  - <font color='blue'>**There is no difference in virologic failure rates between the Nevaripine and Lopinavir groups.**</font>\n",
        "\n",
        "- **$H_A :$** **$𝑷_N$** $\\neq$ **$𝑷_L$**\n",
        "  - <font color='blue'>**There is no difference in virologic failure rates between the Nevaripine and Lopinavir groups.**\n",
        "\n"
      ],
      "metadata": {
        "id": "DeGjbAGUGW2Y"
      }
    },
    {
      "cell_type": "markdown",
      "source": [
        "**<font color='orange' size='6px'>C)</font>**  \n",
        "\n",
        "<font color='green' size='5px'>**Check conditions**:</font>\n",
        "\n",
        "First of all let's check conditions:\n",
        "**1. Independence:**\n",
        "\n",
        "- <font color='blue' >**within groups: random sample and 𝐧 is less than %10**</font><font color='green'>$\\surd$</font>\n",
        "- <font color='blue'>**between groups: no reason to expect this samples are dependent** </font><font color='green'>$\\surd$</font>\n",
        "\n",
        "**1. Sample size / Skew:**\n",
        "\n",
        "- <font color='blue'>**Lopinavir and Nevirapine groups: 120 × 0.15 = 18 and 120 × 0.85 = 102**.</font><font color='green'>$\\surd$</font>\n",
        "\n",
        "\n",
        "<font color='green' size='5px'>**Complete the hypothesis test**:</font>\n",
        "\n",
        "First, Let's get **$p̂_{Nevirapine}$** and **$p̂_{Lopinavir}$**:\n",
        "\n",
        "- **$p̂_{Nevirapine}$:** $\\frac{26}{120}$ = <font color='blue'>**0.216**</font>\n",
        "- **$p̂_{Lopinavir}$:** $\\frac{10}{120}$ = <font color='blue'>**0.083**</font>\n",
        "\n",
        "We have two groups and we want to compare the two proportions. So let's calulate the **$p̂_{pool}$**. The formula for **$p̂_{pool}$** is:\n",
        "\n",
        "- **$p̂_{pool}$** = **$\\frac{26 + 10}{240}$** = <font color='blue'>**0.15**</font>\n",
        "\n",
        "How about **SE**? Let's get it:\n",
        "\n",
        "- **SE** = $\\sqrt{\\frac {p̂_{pool} (1- p̂_{pool})} {𝐧_1} + \\frac {p̂_{pool} (1- p̂_{pool})} {𝐧_2}}$\n",
        "\n",
        "- **SE** = $\\sqrt{\\frac {0.15 × 0.85} {120} + \\frac {0.15 × 0.85} {120}}$\n",
        "\n",
        "- **SE** = $\\sqrt{0.001 + 0.001}$ = $\\sqrt{0.002}$\n",
        "\n",
        "- **SE** = <font color='blue'>**0.044**</font>\n",
        "\n",
        "\n",
        "Let's get **point estimate**:\n",
        "\n",
        "- **point estimate** = **$p̂_{Nevirapine}$** - **$p̂_{Lopinavir}$**\n",
        "- **point estimate** = **0.216 - 0.083**\n",
        "- **point estimate** = <font color='blue'>**0.133**</font>\n",
        "\n",
        "Information:\n",
        "- **Point estimate** = <font color='blue'>**0.133**</font>\n",
        "- **Null value** = <font color='blue'>**0**</font>\n",
        "- **SE** = <font color='blue'>**0.044**</font>\n",
        "\n",
        "So let's calculate **$𝒁$** :\n",
        "\n",
        "**$𝒁$** = **$\\frac{0.133 - 0}{0.044}$** ≈ <font color='blue'>**3.022**</font>\n",
        "\n",
        "\n",
        "- **p-value** = **𝑃(|𝑍| > 3.022)** ≈ <font color='blue'>**0.0013**</font>\n",
        "\n",
        "<font color='green' size='5px'>**Result**:</font>\n",
        "\n",
        "- **Since the p-value is low, we <font color='red'>reject</font> $H_0$ There is strong evidence of a difference in virologic failure rates between the Nevaripine and Lopinavir groups do not appear to be independent.**\n",
        "\n",
        "\n",
        "\n",
        "\n",
        "\n"
      ],
      "metadata": {
        "id": "v7jSS8pCIIBC"
      }
    },
    {
      "cell_type": "markdown",
      "source": [
        "**<font color='red' size='8px'>Question 4</font>**\n",
        "\n",
        "Two different question phrasings are being used to compare the 2010 healthcare law approval. Depending on how a question is phrased, a person may respond differently. For instance, Pew Research Center conducted a survey with the following question:\n",
        "As you may know, by 2014, nearly all Americans will be required to have health insurance.\n",
        "\n",
        "          [People who do not buy insurance will pay a penalty]\n",
        "          while [People who cannot afford it will receive financial help from\n",
        "          the government]. Do you approve or disapprove of this policy?\n",
        "\n",
        "For each randomly sampled respondent, the statements in brackets were randomized: either they were kept in the order given above, or the two statements were reversed. The following table shows the results of this experiment. Create and interpret a 90% confidence interval of the difference in approval.\n",
        "\n",
        "\n",
        "<font color='blue' size='3px'></font>| <font color='blue' size='3px'>Sample size (ni) </font>| <font color='blue' size='3px'>Approve law (%)</font> | <font color='blue' size='3px'>Disapprove law (%) </font>| <font color='blue' size='3px'>Other</font>\n",
        ":---:|:---:|:---:|:---:|:---:\n",
        "<font color='darkblue' size='3px'>**People who cannot afford ...**</font>|<font size='3px'>**771**</font>|<font size='3px'>**47**</font>|<font size='3px'>**49**</font>|<font size='3px'>**4**</font>|\n",
        "<font color='darkblue' size='3px'>**People who do not buy ...**</font>|<font size='3px'>**732**</font>|<font size='3px'>**34**</font>|<font size='3px'>**63**</font>|<font size='3px'>**3**</font>\n",
        "\n",
        "\n",
        "**<font color='green' size=6px>Answer 👇:**</font>"
      ],
      "metadata": {
        "id": "lEScFEUAcs7y"
      }
    },
    {
      "cell_type": "markdown",
      "source": [
        "**<font color='orange' size='6px'>A)</font>**  \n",
        "\n",
        "Let's denote:\n",
        "\n",
        "- **p̂_1** :  as the proportion of people approving the law with the statement \"People who cannot afford it will receive financial help from the government\" is given second.\n",
        "- **p̂_2** : as the proportion of people approving the law with the statement \"People who do not buy it will pay a penalty\" is given second.\n",
        "\n",
        "- **𝐧_1** : as the sample size for the first phrasing.\n",
        "- **𝐧_2** :as the sample size for the second phrasing.\n",
        "  \n",
        "\n",
        "\n",
        "First, Let's get **# of $successes_1$** and **# of $successes_2$** for **$p̂_{pool}$** :\n",
        "\n",
        "- **# of $successes_1$:** $\\frac{47}{100} × 771$ = <font color='blue'>**362.37 ≈ 363**</font>\n",
        "- **# of $successes_2$:** $\\frac{34}{100} × 732$ = <font color='blue'>**248.88 ≈ 249**</font>\n",
        "\n",
        "\n",
        "Let's get **$p̂_{pool}$**\n",
        "\n",
        "- **$p̂_{pool}$** = **$\\frac{363 + 249}{771 + 732}$** = <font color='blue'>**0.40**</font>\n",
        "\n",
        "How about **SE**? Let's get it:\n",
        "\n",
        "- **SE** = $\\sqrt{\\frac {p̂_{pool} (1- p̂_{pool})} {𝐧_1} + \\frac {p̂_{pool} (1- p̂_{pool})} {𝐧_2}}$\n",
        "\n",
        "- **SE** = $\\sqrt{\\frac {0.40 × 0.60} {771} + \\frac {0.40 × 0.60} {732}}$\n",
        "\n",
        "- **SE** = $\\sqrt{0.00031 + 0.00032}$ = $\\sqrt{0.00063}$\n",
        "\n",
        "- **SE** ≈ <font color='blue'>**0.025**</font>\n",
        "\n",
        "Calculate **ME**: (based on 𝒁 table for 90% the corresponding value is **1.64**)\n",
        "\n",
        "- **ME** = **𝒁 × SE**\n",
        "\n",
        "- **ME** = **1.64 × 0.025**\n",
        "\n",
        "- **ME** ≈ <font color='blue'>**0.041**</font>\n",
        "\n",
        "\n",
        "\"Create and interpret a 90% confidence interval of the difference in approval\".\n",
        "Let's do it:\n",
        "\n",
        "- **CL** = **($p̂_1$ - $p̂_2$)** ± **ME**\n",
        "- **CL** = **($0.47$ - $0.34$)** ± **0.041**\n",
        "- **CL** = **0.13** ± **0.041**\n",
        "- **CL** = <font color='blue'>**(0.089 , 0.171)**</font>\n",
        "\n",
        "\n",
        "<font color='green' size='5px'>**Interpretation:**</font>\n",
        "\n",
        "- **We are 90% confident that the difference in approval rates for the two question phrasings is between 8.9% and 17.1%. This means that there is a statistically significant difference in approval rates between the two question phrasings, with the statement about financial help from the government being more positively received than the statement about penalties for not buying insurance.**"
      ],
      "metadata": {
        "id": "UhJfBf0rdtGm"
      }
    },
    {
      "cell_type": "markdown",
      "source": [
        "**<font color='red' size='8px'>Question 5</font>**\n",
        "\n",
        "Rock-paper-scissors is a hand game played by two or more people where players choose to sign either rock, paper, or scissors with their hands. For your statistics class project, you want to evaluate whether players choose between these three options randomly, or if certain options are favored above others. You ask two friends to play rock-paper-scissors and count the times each option is played. The following table summarizes the data.\n",
        "\n",
        "Use these data to evaluate whether players choose between these three options randomly, or if certain options are favored above others. Make sure to clearly outline each step of your analysis, and interpret your result in the context of the data and the research question.\n",
        "\n",
        "\n",
        " <font color='blue' size='3px'>Rock</font>| <font color='blue' size='3px'>Scissors</font> | <font color='blue' size='3px'>Paper</font>|\n",
        ":---:|:---:|:---:|\n",
        "<font size='3px'>**43**</font>|<font size='3px'>**21**</font>|<font size='3px'>**35**</font>\n",
        "\n",
        "\n",
        "\n",
        "**<font color='green' size=6px>Answer 👇:**</font>"
      ],
      "metadata": {
        "id": "qu6tLS6enWuo"
      }
    },
    {
      "cell_type": "markdown",
      "source": [
        "- **$H_0$** = **Each option is equally likely**\n",
        "- **$H_1$** = **Some options are favored above others**\n",
        "\n",
        "\n",
        "The **Observed**:\n",
        "\n",
        "<font color='blue' size='3px'>Rock</font>| <font color='blue' size='3px'>Scissors</font> | <font color='blue' size='3px'>Paper</font>|\n",
        ":---:|:---:|:---:|\n",
        "<font size='3px'>**43**</font>|<font size='3px'>**21**</font>|<font size='3px'>**35**</font>\n",
        "\n",
        "The **Expected**:\n",
        "\n",
        "Each option has equally chance so the total number is:\n",
        "\n",
        "- **T** = **43 + 21 + 35** = <font color='blue'>**99**</font>\n",
        "\n",
        "- **Expected counts** = $\\frac{1}{3}$ × 99 = <font color='blue'>**33**</font> (for each option)\n",
        "\n",
        "So the **Expected** table is:\n",
        "\n",
        "<font color='blue' size='3px'>Rock</font>| <font color='blue' size='3px'>Scissors</font> | <font color='blue' size='3px'>Paper</font>|\n",
        ":---:|:---:|:---:|\n",
        "<font size='3px'>**33**</font>|<font size='3px'>**33**</font>|<font size='3px'>**33**</font>\n",
        "\n",
        "<font color='green' size='5px'>**Check conditions:**</font>\n",
        "\n",
        "<font color='blue' size='3px'>**Independence:**</font>\n",
        "- **Sampled observations must be independent**<font color='green'>$\\surd$</font>\n",
        "- **99 < 10%**<font color='green'>$\\surd$</font>\n",
        "- **Random sample/assignment**<font color='green'>$\\surd$</font>\n",
        "- **each case only contributes to one cell in the table**<font color='green'>$\\surd$</font>\n",
        "\n",
        "<font color='blue' size='3px'>**Sample size:**</font>\n",
        "- **Each particular scenario (i.e.cell) must have at least 5 expected cases**<font color='green'>$\\surd$</font>\n",
        "\n",
        "\n",
        "\n",
        "Now it's time to calculate **Chi-square ($𝓧^2$) statistic**:\n",
        "\n",
        "- **$𝓧^2$** = $\\sum_{𝑖=1}^k \\frac{(𝑂 - 𝐸)^2}{𝐸}$\n",
        "\n",
        "- **$𝓧^2$** = $\\frac{(43 - 33)^2}{33} + \\frac{(21 - 33)^2}{33} + \\frac{(35 - 33)^2}{33}$\n",
        "\n",
        "- **$𝓧^2$** = $\\frac{(10)^2}{33} + \\frac{(-12)^2}{33} + \\frac{(2)^2}{33}$\n",
        "- **$𝓧^2$** = $\\frac{100}{33} + \\frac{144}{33} + \\frac{4}{33}$\n",
        "\n",
        "- **$𝓧^2$** = **3.03 + 4.36 + 0.12** = <font color='blue'>**7.51**</font>\n",
        "\n",
        "How about **degrees of freedom**?\n",
        "\n",
        "- **df** = **3 - 1** = <font color='blue'>**2**</font>\n",
        "\n",
        "Based on **Chi square** table 7.51 is:\n",
        "\n",
        "- 0.01 < <font color='purple'>p-value</font> < 0.025\n",
        "\n",
        "<font color='green' size='5px'>**Result:**</font>\n",
        "\n",
        "\n",
        "- **Since the p-value is less than 5%, we <font color='red'>reject</font> $H_0$. The data provide convincing evidence that some options are preferred over others.**"
      ],
      "metadata": {
        "id": "CNzqaDU2n2lI"
      }
    },
    {
      "cell_type": "markdown",
      "source": [
        "**<font color='red' size='8px'>Question 6</font>**\n",
        "\n",
        "A Restaurant Manager for a Football Park wants to know if there is a relationship between gender (male or female) and the preferred condiment on a sandwich. The following table summarizes the results. Test the hypothesis with a significance level of 5%.\n",
        "\n",
        "\n",
        "<font color='blue' size='3px'></font>| <font color='blue' size='3px'>Ketchup</font>| <font color='blue' size='3px'>Mustard</font> | <font color='blue' size='3px'>Relish</font>| <font color='blue' size='3px'>Total</font>\n",
        ":---:|:---:|:---:|:---:|:---:\n",
        "<font color='darkblue' size='3px'>**Male**</font>|<font size='3px'>**15**</font>|<font size='3px'>**23**</font>|<font size='3px'>**10**</font>|<font size='3px'>**48**</font>|\n",
        "<font color='darkblue' size='3px'>**Female**</font>|<font size='3px'>**25**</font>|<font size='3px'>**19**</font>|<font size='3px'>**8**</font>|<font size='3px'>**52**</font>|\n",
        "<font color='darkblue' size='3px'>**Total**</font>|<font size='3px'>**40**</font>|<font size='3px'>**42**</font>|<font size='3px'>**18**</font>|<font size='3px'>**100**</font>\n",
        "\n",
        "\n",
        "**<font color='green' size=6px>Answer 👇:**</font>"
      ],
      "metadata": {
        "id": "h2RRkOVaodAh"
      }
    },
    {
      "cell_type": "markdown",
      "source": [
        "It is solved by **Chi-square** independence test.\n",
        "\n",
        "<font color='green' size='5px'>**Hypothesis test:**</font>\n",
        "- **$H_0$** = **Gender and condiments are independent.**\n",
        "\n",
        "- **$H_A$** = **Gender and condiments are not independent.**\n",
        "\n",
        "First We need to get **Expected** counts:\n",
        "\n",
        "\n",
        "- **$E_{row_1, col_1}$** = **$\\frac{48 × 40}{100}$** = <font color='blue'>**19.2**</font>\n",
        "- **$E_{row_2, col_1}$** = **$\\frac{52 × 40}{100}$** = <font color='blue'>**20.8**</font>\n",
        "- **$E_{row_1, col_2}$** = **$\\frac{48 × 42}{100}$** = <font color='blue'>**20.16**</font>\n",
        "- **$E_{row_2, col_2}$** = **$\\frac{52 × 42}{100}$** = <font color='blue'>**21.84**</font>\n",
        "- **$E_{row_3, col_1}$** = **$\\frac{48 × 18}{100}$** = <font color='blue'>**8.64**</font>\n",
        "- **$E_{row_3, col_2}$** = **$\\frac{52 × 18}{100}$** = <font color='blue'>**9.36**</font>\n",
        "\n",
        "\n",
        "<font color='blue' size='3px'></font>| <font color='blue' size='3px'>Ketchup</font>| <font color='blue' size='3px'>Mustard</font> | <font color='blue' size='3px'>Relish</font>| <font color='blue' size='3px'>Total</font>\n",
        ":---:|:---:|:---:|:---:|:---:\n",
        "<font color='darkblue' size='3px'>**Male**</font>|<font size='3px'>**15 (19.2)**</font>|<font size='3px'>**23 (20.16)**</font>|<font size='3px'>**10 (8.64)**</font>|<font size='3px'>**48**</font>|\n",
        "<font color='darkblue' size='3px'>**Female**</font>|<font size='3px'>**25 (20.8)**</font>|<font size='3px'>**19 (21.84)**</font>|<font size='3px'>**8 (9.36)**</font>|<font size='3px'>**52**</font>|\n",
        "<font color='darkblue' size='3px'>**Total**</font>|<font size='3px'>**40**</font>|<font size='3px'>**42**</font>|<font size='3px'>**18**</font>|<font size='3px'>**100**</font>\n",
        "\n",
        "\n",
        "Now it's time to calculate **Chi-square ($𝓧^2$) statistic**:\n",
        "\n",
        "- **$𝓧^2$** = $\\sum_{𝑖=1}^k \\frac{(𝑂 - 𝐸)^2}{𝐸}$\n",
        "\n",
        "- **$𝓧^2$** = $\\frac{(15 - 19.2)^2}{19.2} + \\frac{(25 - 20.8)^2}{20.8} + \\frac{(23 - 20.16)^2}{20.16} + \\frac{(19 - 21.84)^2}{21.84} + \\frac{(10 - 8.64)^2}{8.64} + \\frac{(8 - 9.36)^2}{9.36}$\n",
        "\n",
        "- **$𝓧^2$** = $\\frac{(-4.2)^2}{19.2} + \\frac{(4.2)^2}{20.8} + \\frac{(2.84)^2}{20.16} + \\frac{(-2.84)^2}{21.84} + \\frac{(1.36)^2}{8.64} + \\frac{(-1.36)^2}{9.36}$\n",
        "- **$𝓧^2$** = $\\frac{17.64}{19.2} + \\frac{17.64}{20.8} + \\frac{8.06}{20.16} + \\frac{8.06}{21.84} + \\frac{1.84}{8.64} + \\frac{1.84}{9.36}$\n",
        "\n",
        "- **$𝓧^2$** = **0.918 + 0.848 + 0.399 + 0.369 + 0.212 + 0.196** = <font color='blue'>**2.94**</font>\n",
        "\n",
        "How about **degrees of freedom**?\n",
        "\n",
        "- **df** = **(𝘙 - 1) × (𝐶 - 1)**\n",
        "\n",
        "We have **3** columns and **2** rows, S0:\n",
        "\n",
        "- **df** = **(2 - 1) × (3 - 1)** = **(1) × (2)** = <font color='blue'>**2**</font>\n",
        "\n",
        "<font color='purple' size='5px'>**p-value:**</font>\n",
        "- **The p-value for 𝑃($𝓧^2$ > 2.94) with <font color='blue'>2</font> degrees of freedom is <font color='green'>0.2299</font>**\n",
        "\n",
        "> <font color='red'>**Note:**</font>\n",
        "- **The p value is obtained by r (code below)**\n",
        "\n",
        "<font color='green' size='5px'>**Result:**</font>\n",
        "\n",
        "- **p-value <font color='green'>0.2299 > 0.05%</font>, We fail to <font color='red'>reject</font> $H_0$. We can conclude that there is <font color='red'>not</font> enough evidence in the data to suggest that gender and preferred condiment are related.**"
      ],
      "metadata": {
        "id": "K9tLIwp9pBqS"
      }
    },
    {
      "cell_type": "code",
      "source": [
        "# getting p-value for Chi-square\n",
        "pchisq(2.94, 2,lower.tail =FALSE)"
      ],
      "metadata": {
        "colab": {
          "base_uri": "https://localhost:8080/",
          "height": 34
        },
        "id": "xlIVNV5qRqBF",
        "outputId": "5c705b59-7fb4-4535-d652-0f32851fecb2"
      },
      "execution_count": null,
      "outputs": [
        {
          "output_type": "display_data",
          "data": {
            "text/html": [
              "0.229925485186724"
            ],
            "text/markdown": "0.229925485186724",
            "text/latex": "0.229925485186724",
            "text/plain": [
              "[1] 0.2299255"
            ]
          },
          "metadata": {}
        }
      ]
    },
    {
      "cell_type": "markdown",
      "source": [
        "**<font color='red' size='8px'>Question 7</font>**\n",
        "\n",
        "During a five-day workweek, employers are interested in knowing which days employees are absent. It is usually believed by employers that employees are absent equally throughout the week. In this scenario, a random sample of 70 managers is asked what day of the week they had the highest number of employee absences. The results were distributed as in Table 7.1. For the population of employees, do the days for the highest number of absences occur with equal frequencies during a five-day workweek? Test at a 5% significance level. (Using a chi-square test)\n",
        "\n",
        "\n",
        "<font color='blue' size='3px'></font>| <font color='blue' size='3px'>Monday</font>| <font color='blue' size='3px'>Tuesday</font> | <font color='blue' size='3px'>Wednesday</font>| <font color='blue' size='3px'>Thursday</font>| <font color='blue' size='3px'>Friday</font>\n",
        ":---:|:---:|:---:|:---:|:---:|:---:\n",
        "<font color='darkblue' size='3px'>**Number of Absences**</font>|<font size='3px'>**18**</font>|<font size='3px'>**16**</font>|<font size='3px'>**10**</font>|<font size='3px'>**10**</font>|<font size='3px'>**16**</font>\n",
        "\n",
        "\n",
        "**<font color='green' size=6px>Answer 👇:**</font>"
      ],
      "metadata": {
        "id": "ytf9i1KOUzH3"
      }
    },
    {
      "cell_type": "markdown",
      "source": [
        "<font color='navy' size='5px'>**The null and alternative hypotheses are:**</font>\n",
        "\n",
        "- **$H_0$** = **The absent days occur with equal frequencies.**\n",
        "- **$H_A$** = **The absent days occur with unequal frequencies.**"
      ],
      "metadata": {
        "id": "SB9Ldc4PYo0M"
      }
    },
    {
      "cell_type": "code",
      "source": [
        "# Create observed table like above\n",
        "observed_table <- matrix(c(18, 16, 10, 10, 16), nrow = 1, ncol = 5, byrow = T)\n",
        "rownames(observed_table) <- c('Number of Absences')\n",
        "colnames(observed_table) <- c('Monday', 'Tuesday', 'Wednesday','Thursday','Friday')\n",
        "observed_table"
      ],
      "metadata": {
        "colab": {
          "base_uri": "https://localhost:8080/",
          "height": 98
        },
        "id": "ctnMRrk3R5B1",
        "outputId": "4b25d3fa-4a61-481b-efe8-93a54653acb3"
      },
      "execution_count": null,
      "outputs": [
        {
          "output_type": "display_data",
          "data": {
            "text/html": [
              "<table class=\"dataframe\">\n",
              "<caption>A matrix: 1 × 5 of type dbl</caption>\n",
              "<thead>\n",
              "\t<tr><th></th><th scope=col>Monday</th><th scope=col>Tuesday</th><th scope=col>Wednesday</th><th scope=col>Thursday</th><th scope=col>Friday</th></tr>\n",
              "</thead>\n",
              "<tbody>\n",
              "\t<tr><th scope=row>Number of Absences</th><td>18</td><td>16</td><td>10</td><td>10</td><td>16</td></tr>\n",
              "</tbody>\n",
              "</table>\n"
            ],
            "text/markdown": "\nA matrix: 1 × 5 of type dbl\n\n| <!--/--> | Monday | Tuesday | Wednesday | Thursday | Friday |\n|---|---|---|---|---|---|\n| Number of Absences | 18 | 16 | 10 | 10 | 16 |\n\n",
            "text/latex": "A matrix: 1 × 5 of type dbl\n\\begin{tabular}{r|lllll}\n  & Monday & Tuesday & Wednesday & Thursday & Friday\\\\\n\\hline\n\tNumber of Absences & 18 & 16 & 10 & 10 & 16\\\\\n\\end{tabular}\n",
            "text/plain": [
              "                   Monday Tuesday Wednesday Thursday Friday\n",
              "Number of Absences 18     16      10        10       16    "
            ]
          },
          "metadata": {}
        }
      ]
    },
    {
      "cell_type": "code",
      "source": [
        "X <- chisq.test(observed_table)\n",
        "X"
      ],
      "metadata": {
        "colab": {
          "base_uri": "https://localhost:8080/",
          "height": 104
        },
        "id": "U4D8jy7RXFaN",
        "outputId": "c2280350-00fe-4660-8802-70498f064454"
      },
      "execution_count": null,
      "outputs": [
        {
          "output_type": "display_data",
          "data": {
            "text/plain": [
              "\n",
              "\tChi-squared test for given probabilities\n",
              "\n",
              "data:  observed_table\n",
              "X-squared = 4, df = 4, p-value = 0.406\n"
            ]
          },
          "metadata": {}
        }
      ]
    },
    {
      "cell_type": "markdown",
      "source": [
        "<font color='green' size='5px'>**Result:**</font>\n",
        "\n",
        "- **p-value 0.406 > 0.05, So We fail to <font color='red'>reject</font> null hypothesis ($H_0$).**"
      ],
      "metadata": {
        "id": "t_fYGqWfZRj2"
      }
    },
    {
      "cell_type": "markdown",
      "source": [
        "**<font color='red' size='8px'>Question 8</font>**\n",
        "\n",
        "Consider the dataset named “survey” in the “MASS” library in R. The Smoke column records the students’ smoking habit, while the “Exer” column records their exercise level. Test the hypothesis of whether the students’ smoking habit is independent of their exercise level at the 0.05 significance level.\n",
        "\n",
        "\n",
        "\n",
        "**<font color='green' size=6px>Answer 👇:**</font>"
      ],
      "metadata": {
        "id": "yzc-zdWyZlZY"
      }
    },
    {
      "cell_type": "markdown",
      "source": [
        "<font color='navy' size='5px'>**The null and alternative hypotheses are:**</font>\n",
        "\n",
        "- **$H_0$** = **Smoking habit and exercise level are independent.**\n",
        "- **$H_A$** = **Smoking habit and exercise level are dependent.**"
      ],
      "metadata": {
        "id": "vpLB2rlder4Q"
      }
    },
    {
      "cell_type": "code",
      "source": [
        "library(MASS) # load the MASS package"
      ],
      "metadata": {
        "id": "qfY-L-nxZ8wj"
      },
      "execution_count": null,
      "outputs": []
    },
    {
      "cell_type": "code",
      "source": [
        "data(\"survey\") # load data"
      ],
      "metadata": {
        "id": "qa2qYQCEZ_QL"
      },
      "execution_count": null,
      "outputs": []
    },
    {
      "cell_type": "code",
      "source": [
        "# Creating table with Smoke and Exer columns\n",
        "table_data  <- table(survey$Smoke , survey$Exer)\n",
        "table_data"
      ],
      "metadata": {
        "colab": {
          "base_uri": "https://localhost:8080/",
          "height": 121
        },
        "id": "OW2VD6c2aIuI",
        "outputId": "d952f01c-ddc9-41b3-88f5-68fbe4ce5491"
      },
      "execution_count": null,
      "outputs": [
        {
          "output_type": "display_data",
          "data": {
            "text/plain": [
              "       \n",
              "        Freq None Some\n",
              "  Heavy    7    1    3\n",
              "  Never   87   18   84\n",
              "  Occas   12    3    4\n",
              "  Regul    9    1    7"
            ]
          },
          "metadata": {}
        }
      ]
    },
    {
      "cell_type": "code",
      "source": [
        "# # Perform the Chi-squared test of independence\n",
        "X <- chisq.test(df)\n",
        "X"
      ],
      "metadata": {
        "colab": {
          "base_uri": "https://localhost:8080/",
          "height": 139
        },
        "id": "oj78ZgKtaNkB",
        "outputId": "ad8b76a2-9326-4eba-b63b-9fffc93f5cd4"
      },
      "execution_count": null,
      "outputs": [
        {
          "output_type": "stream",
          "name": "stderr",
          "text": [
            "Warning message in chisq.test(df):\n",
            "“Chi-squared approximation may be incorrect”\n"
          ]
        },
        {
          "output_type": "display_data",
          "data": {
            "text/plain": [
              "\n",
              "\tPearson's Chi-squared test\n",
              "\n",
              "data:  df\n",
              "X-squared = 5.4885, df = 6, p-value = 0.4828\n"
            ]
          },
          "metadata": {}
        }
      ]
    },
    {
      "cell_type": "code",
      "source": [
        "# Check the p-value\n",
        "if(X$p.value < 0.05) {\n",
        "  print(\"Reject the null hypothesis: Smoking habit and exercise level are dependent.\")\n",
        "} else {\n",
        "  print(\"Fail to reject the null hypothesis: Smoking habit and exercise level are independent.\")\n",
        "}"
      ],
      "metadata": {
        "colab": {
          "base_uri": "https://localhost:8080/"
        },
        "id": "eSZ50IHrcDV_",
        "outputId": "cde14bcb-7e22-4ab6-c99d-510c90f52577"
      },
      "execution_count": null,
      "outputs": [
        {
          "output_type": "stream",
          "name": "stdout",
          "text": [
            "[1] \"Fail to reject the null hypothesis: Smoking habit and exercise level are independent.\"\n"
          ]
        }
      ]
    },
    {
      "cell_type": "markdown",
      "source": [
        "<font color='green' size='5px'>**Result:**</font>\n",
        "\n",
        "- **p-value 0.4828 > 0.05, So We fail to <font color='red'>reject</font> null hypothesis ($H_0$).**"
      ],
      "metadata": {
        "id": "ZQr5RDyse_YE"
      }
    }
  ]
}