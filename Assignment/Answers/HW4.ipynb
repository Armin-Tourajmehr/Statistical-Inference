{
  "nbformat": 4,
  "nbformat_minor": 0,
  "metadata": {
    "colab": {
      "provenance": []
    },
    "kernelspec": {
      "name": "ir",
      "display_name": "R"
    },
    "language_info": {
      "name": "R"
    }
  },
  "cells": [
    {
      "cell_type": "markdown",
      "source": [
        "**<font color='red' size='8px'>Question 1</font>**\n",
        "\n",
        "Identify each of the following statements as true or false. Provide an explanation to justify each of your answers.\n",
        "\n",
        "**<font color='green' size=6px>Answer 👇:**</font>"
      ],
      "metadata": {
        "id": "FfzGZmhKcrOC"
      }
    },
    {
      "cell_type": "markdown",
      "source": [
        "\n",
        "**<font color='orange' size='6px'>A)</font>**  \n",
        "\n",
        "- **By resampling the population with replacement, a bootstrap distribution is created.**\n",
        "  - <font color='green'>**TRUE**</font>\n",
        "    - <font color='blue'>**By resampling the population with replacement, a bootstrap distribution is created. Bootstrap sampling involves randomly sampling the data with replacement to create multiple samples that mimic the original data distribution.**</font>\n",
        "\n",
        "\n",
        "**<font color='orange' size='6px'>B)</font>**  \n",
        "- **Suppose that ANOVA at a 5% significance level rejects the null hypothesis that the means of the four groups are the same. Hence, the pairwise analysis will identify at least one pair of significantly different means.**\n",
        "  - <font color='red'>**FALSE**</font>\n",
        "    - <font color='blue'>**Anova tell us that at least one pair of mean are different but not which pair of means are different. Hence the pairwise analysis will tell us which pair of groups are different.**</font>\n",
        "\n",
        "**<font color='orange' size='6px'>C)</font>**  \n",
        "- **A smaller sample size is recommended when generating resampled samples.**\n",
        "  - <font color='red'>**FALSE**</font>\n",
        "    - <font color='blue'>**A larger sample size is generally recommended when generating resampled samples to ensure that the resampled data adequately represent the population distribution.**</font>\n",
        "\n",
        "**<font color='orange' size='6px'>D)</font>**  \n",
        "- **The difference between each pair of observations is the starting point for a paired analysis. Then we use these differences to make inferences.**\n",
        "  - <font color='green'>**TRUE**</font>\n",
        "    - <font color='blue'>**We consider the difference and compare it with zero. In general, In a paired analysis, the differences between pairs of observations are used to make inferences about the relationship or effect being studied.**</font>\n",
        "\n",
        "\n",
        "**<font color='orange' size='6px'>E)</font>**  \n",
        "\n",
        "- **There is a reverse relation between variance within an ANOVA group and the amount of noise (variance).**\n",
        "  - <font color='green'>**TRUE**</font>\n",
        "  - <font color='blue'>**F = $\\frac{VBG}{VWG}$**</font>\n",
        "    - VBG = variability between groups\n",
        "    - VWG = variabiliry within groups\n",
        "\n",
        "**<font color='orange' size='6px'>F)</font>**  \n",
        "\n",
        "- **In a test, we randomly sample 30 items from Amazon and note the price for each. Then we visit local markets and collect the price of each of those same 30 items. This is a paired t-test.**\n",
        "  - <font color='green'>**TRUE**</font>\n",
        "    - <font color='blue'>**paired-t-test is used to compare two related groups. Here, since both prices are the same and similar products are compared at the same price, it is used to determine whether there is a significant difference between the two.**</font>\n",
        "\n",
        "\n",
        "**<font color='orange' size='6px'>G)</font>**  \n",
        "- **An inference is made based on the difference between two observations in a paired analysis.**\n",
        "  - <font color='green'>**TRUE**</font>\n",
        "    - <font color='blue'>**Focous is on the differenec between paired observation within the same groups**</font>\n",
        "\n",
        "**<font color='orange' size='6px'>H)</font>**  \n",
        "- **In order to prevent Type-II errors, you should assign a large amount of 𝛽.**\n",
        "  - <font color='red'>**FALSE**</font>\n",
        "    - <font color='blue'>**Power should be increased. We also know that Type-II errors and Type-I errors have a trade-off, which means that Type-II errors decreases, Type-I errors increases. To prevent Type-II errors (false negatives), one should aim to minimize the probability of committing such errors by increasing the sample size or using appropriate statistical power analysis.**</font>"
      ],
      "metadata": {
        "id": "oGAGCeGnCY4g"
      }
    },
    {
      "cell_type": "markdown",
      "source": [
        "**<font color='red' size='8px'>Question 2</font>**\n",
        "\n",
        "A statistical inference class at a certain university has 500 students. The scores of 10 students were selected at random and are demonstrated in the following table.\n",
        "\n",
        "- **Calculate the mean and standard deviation of the sample.**\n",
        "- **Calculate the margin of error.**\n",
        "- **Construct a 90% confidence interval for the mean score of all the students in this class.**\n",
        "- **Interpret the calculated confidence interval**\n",
        "\n",
        "<font color='blue'>Column 1 | <font color='blue'>Column 2 | <font color='blue'>Column 3 | <font color='blue'>Column 4 | <font color='blue'>Column 5</font>\n",
        ":---:|:---:|:---:|:---:|:---:\n",
        "**76**|**84**|**69**|**92**|**58**\n",
        "**89**|**73**|**97**|**85**|**77**\n",
        "\n",
        "\n",
        "\n",
        "**<font color='green' size=6px>Answer 👇:**</font>"
      ],
      "metadata": {
        "id": "afRFUeVHje91"
      }
    },
    {
      "cell_type": "markdown",
      "source": [
        "\n",
        "**<font color='orange' size='6px'>A)</font>**  \n",
        "\n",
        "**Mean**:\n",
        "\n",
        "- **μ** = **$\\frac{\\sum_i^n X_i}{n}$**\n",
        "- **μ** = <font color='blue'>**80**</font>\n",
        "\n",
        "**Variance**:\n",
        "- **$σ^2$** = **$\\frac{\\sum_i^n (𝐱_i - μ)^2}{𝑵 - 1}$**\n",
        "\n",
        "- **𝐬** = $(76 - 80)^2$ + $(84 - 80)^2$ + $(69 - 80)^2$ + $(92 - 80)^2$ + $(58 - 80)^2$ + $(89 - 80)^2$ + $(73 - 80)^2$ + $(97 - 80)^2$ + $(85 - 80)^2$ + $(77 - 80)^2$\n",
        "\n",
        "- **𝐬** = $4^2$  + $4^2$ + $11^2$ + $12^2$ + $22^2$ + $9^2$ + $7^2$ + $17^2$ + $5^2$ + $3^2$\n",
        "- **𝐬** = <font color='blue'>**11.70**</font>\n",
        "\n",
        "**<font color='orange' size='6px'>B)</font>**  \n",
        "**Margin of error:**\n",
        "\n",
        "- **ME** = $\\frac{𝐬}{\\sqrt n}$\n",
        "\n",
        "- **ME** = $\\frac{11.70}{\\sqrt 10}$\n",
        "\n",
        "- **ME** = <font color='blue'>**3.70**</font>\n",
        "\n",
        "**<font color='orange' size='6px'>C)</font>**  \n",
        "**Confidence Interval:**\n",
        "\n",
        "- **𝐙** score for **90%** = <font color='green'>**1.64**</font>\n",
        "\n",
        "- **𝑥̅ $\\pm$ Z*SE**\n",
        "\n",
        "- **80 $\\pm$ 1.64 * 3.70**\n",
        "\n",
        "- **CL** = <font color='blue'>**(73.932 , 86.068)**</font>\n",
        "\n",
        "**<font color='orange' size='6px'>D)</font>**  \n",
        "\n",
        "- **We are 90% confident that true mean score of all the students in the class within the range of (73.932 , 86.068)**\n"
      ],
      "metadata": {
        "id": "ddnxGV8xjhnP"
      }
    },
    {
      "cell_type": "markdown",
      "source": [
        "**<font color='red' size='8px'>Question 3</font>**\n",
        "\n",
        "New York is known as “the city that never sleeps”. A random sample of 25 New Yorkers were asked how much sleep they get per night. Statistical summaries of these data are shown below. The point estimate suggests New Yorkers sleep less than 8 hours a night on average. Is the result statistically significant?\n",
        "\n",
        "- **Write the hypotheses in symbols and words.**\n",
        "- **Check conditions, then calculate the test statistic, 𝑇, and the associated degrees of freedom.**\n",
        "- **Find and interpret the p-value in this context.**\n",
        "- **What is the conclusion of the hypothesis test?**\n",
        "- **If you were to construct a 90% confidence interval that corresponded to this hypothesis test, would you expect 8 hours to be in the interval?**\n",
        "\n",
        "\n",
        "<font color='blue'>𝐧 | <font color='blue'>𝑥̅ | <font color='blue'>𝘀 | <font color='blue'>min | <font color='blue'>max</font>\n",
        ":---:|:---:|:---:|:---:|:---:\n",
        "**25**|**7.73**|**0.77**|**6.17**|**9.78**\n",
        "\n",
        "\n",
        "**<font color='green' size=6px>Answer 👇:**</font>"
      ],
      "metadata": {
        "id": "6qQnCmbHqSLU"
      }
    },
    {
      "cell_type": "markdown",
      "source": [
        "\n",
        "**<font color='orange' size='6px'>A)</font>**  \n",
        "\n",
        "**Symbols:**\n",
        "-  **$H_0$ $\\geq$ 8h**\n",
        "-  **$H_A$ < 8h**\n",
        "\n",
        "**Words:**\n",
        "- **Null Hypothesis $H_0$** = <font color='blue'>**The population mean of sleep hours for New Yorkers is greater than or equal to 8 hours per night.**</font>\n",
        "\n",
        "- **Alternative Hypothesis $H_A$** = <font color='blue'>**The population mean of sleep hours for New Yorkers is less than 8 hours per night.**</font>\n",
        "\n",
        "**<font color='orange' size='6px'>B)</font>**  \n",
        "**Check The Conditions:**\n",
        "\n",
        "- <font color='DarkOliveGreen'>**Independence:**</font>\n",
        "  - <font color='Teal'>**We assume each person's reported sleep time is independent of the others in the sample.**</font>\n",
        "\n",
        "- <font color='DarkOliveGreen'>**Random Sampling:**</font>\n",
        "  - <font color='Teal'>**We assume the sample is random.**</font>\n",
        "\n",
        "- <font color='DarkOliveGreen'>**Normality:**</font>\n",
        "  - <font color='Teal'>**We need to check whether the population distribution is approximately normal or if the sample size is large enough (n > 30) for the Central Limit Theorem to apply. Since the sample size is 25, we should check for any extreme skewness or outliers.**</font>\n",
        "\n",
        "**Test Statistic**:\n",
        "\n",
        "- **t** = **$\\frac{x̅ - μ}{SE}$**\n",
        "\n",
        "- **t** = **$\\frac{7.73 - 8}{\\frac{0.77}{\\sqrt 5}}$**\n",
        "\n",
        "- **t** = <font color='blue'>**-1.75**</font>\n",
        "\n",
        "**Degrees of Freedom**:\n",
        "\n",
        "- **D** = **25 - 1** = <font color='blue'>**24**</font>\n",
        "\n",
        "**<font color='orange' size='6px'>C)</font>**  \n",
        "\n",
        "With 24 degrees of freedom and the value of **t** (-1.75):\n",
        "- <font color='blue'>1.711 < T < 2.064</font>\n",
        "- <font color='blue'>0.025 < p-value < 0.05</font>\n",
        "\n",
        "\n",
        "**<font color='orange' size='6px'>D)</font>**  \n",
        "\n",
        "- **Because the value of p-value is between 0.025 and 0.05 and less than 0.05, as a result, hypothesis $H_0$ is rejected.**\n",
        "\n",
        "**<font color='orange' size='6px'>E)</font>**  \n",
        "\n",
        "**For 90% we have 1.711 based on t table for 24 degrees of freedom, S0:**\n",
        "\n",
        "- **CL = 𝑥̅ ± Z*SE**\n",
        "\n",
        "- **CL = 7.73 ± (1.711) * (0.154)**\n",
        "\n",
        "- <font color='blue'>**(7.53 , 7.93)**</font>\n",
        "\n",
        "**Since the alternative hypothesis suggests the population mean is less than 8, we would expect the lower bound of the confidence interval to be less than 8 hours. As We see, according to what we calculated, 8 is not in this range**\n"
      ],
      "metadata": {
        "id": "HFcoFUAxrCKm"
      }
    },
    {
      "cell_type": "markdown",
      "source": [
        "**<font color='red' size='8px'>Question 4</font>**\n",
        "\n",
        "An experiment is performed to determine whether intensive tutoring (covering a great deal of material in a fixed amount of time) is statistically different from (is more/less effective) paced tutoring (covering less material in the same amount of time). Two randomly chosen groups are tutored separately and then administered proficiency tests. Use the significance level 𝛼 = 0.05.\n",
        "\n",
        "\n",
        "<font color='blue'>Group | <font color='blue'>Method| <font color='blue'>𝒏 | <font color='blue'>𝑥̅ | <font color='blue'>𝘀 </font>\n",
        ":---:|:---:|:---:|:---:|:---:\n",
        "**1**|**Intensive**|**12**|**46.31**|**6.44**\n",
        "**2**|**Paced**|**10**|**42.79**|**7.52**\n",
        "\n",
        "\n",
        "**<font color='green' size=6px>Answer 👇:**</font>"
      ],
      "metadata": {
        "id": "OEgt9OWjwa4y"
      }
    },
    {
      "cell_type": "markdown",
      "source": [
        "We design an expriment to check it.\n",
        "\n",
        "- **Null hypothesis $H_0$** : <font color='blue'>**$μ_1$ - $μ_2$** = **0**</font>\n",
        "- **Alternative hypothesis $H_1$** : <font color='blue'>**$μ_1$ - $μ_2$** $\\neq$ **0**</font>\n",
        "\n",
        "First calculate test statistic:\n",
        "\n",
        "- **t** = **$\\frac{(μ_1 - μ_2)}{SE}$**\n",
        "\n",
        "So Let's calculate **SE**:\n",
        "\n",
        "- **SE** = **$\\sqrt{\\frac{𝘀_1^2}{𝒏_1} + \\frac{𝘀_2^2}{𝒏_2}}$**\n",
        "\n",
        "- **SE** = **$\\sqrt{\\frac{6.44^2}{12} + \\frac{7.52^2}{10}}$**\n",
        "\n",
        "- **SE** = **$\\sqrt{\\frac{41.47}{12} + \\frac{56.55}{10}}$**\n",
        "\n",
        "- **SE** = **$\\sqrt{{3.45} + {5.6}}$**\n",
        "\n",
        "- **SE** = **$\\sqrt{9.105}$** = <font color='blue'>**3.01**</font>\n",
        "\n",
        "\n",
        "Now go back to calculate test statistic:\n",
        "\n",
        "\n",
        "- **t** = **$\\frac{(46.31 - 42.79)}{3.01}$** = <font color='blue'>**1.169**</font>\n",
        "\n",
        "We need also degrees of freedom:\n",
        "\n",
        "- **df** = **min($n_1 - 1$,$n_2 - 1$)**\n",
        "\n",
        "- **df** = **min(11,9)** = <font color='blue'>**9**</font>\n",
        "\n",
        "So for the value of **1.169** and degrees of freedom **9**:\n",
        "\n",
        "- **0.2 < t < 0.3**\n",
        "\n",
        "- <font color='blue'>**Any value between these two numbers is greater than 0.05, as a result, there is no significant difference between these groups and fail to reject the null hypothesis ($H_0$).**\n"
      ],
      "metadata": {
        "id": "LRs4Gl0Cw7qy"
      }
    },
    {
      "cell_type": "markdown",
      "source": [
        "**<font color='red' size='8px'>Question 5</font>**\n",
        "\n",
        "In order to conduct medical research, a medical research group is seeking participants to complete short surveys about their medical history. One survey, for example, asks about a person's family history of cancer. As part of another survey, the respondent is asked what topics were discussed during their last hospital visit. According to our data, as people sign up, they complete approximately 4 surveys on average, and the standard deviation for the number of surveys is approximately 2.2. The research group wants to try a new interface that they think will encourage new enrollees to complete more surveys, where they will randomize each enrollee to either get the new interface or the current interface. How many new enrollees do they need for each interface to detect an effect size of 0.5 surveys per enrollee if the desired power level is 80%? Assume 𝛼=0.05.\n",
        "\n",
        "**<font color='green' size=6px>Answer 👇:**</font>"
      ],
      "metadata": {
        "id": "3KfB9hkp1Iiy"
      }
    },
    {
      "cell_type": "markdown",
      "source": [
        "Given informations:\n",
        "\n",
        "- **σ** = **2.2**\n",
        "- **𝛼** = **0.05**\n",
        "- **effect size** = **0.05**\n",
        "- **power** = **0.08**\n",
        "\n",
        "Identify **effect size** with **d**.\n",
        "\n",
        "Now let's get **𝒏**. We have a formula to calculate **𝒏**:\n",
        "\n",
        "- **𝒏** = $\\frac{2 * (𝒁_\\frac{α}{2} + 𝒁_𝛃)^2 * σ^2}{d^2}$\n",
        "\n",
        "For **𝛂 = 0.05** :\n",
        "- $𝒁_\\frac{α}{2}$ = **1.96**\n",
        "\n",
        "For **0.8 power**:\n",
        "- **$𝒁_𝛃$** = **0.84**\n",
        "\n",
        "Now let's calculate **𝒏**:\n",
        "\n",
        "- **𝒏** = $\\frac{2 * (1.96 + 0.84)^2 * 2.2^2}{0.5^2}$\n",
        "- **𝒏** = **303.309**\n",
        "- <font color='blue'>**𝒏** $\\approx$ **304**</font>\n",
        "\n",
        "So:\n",
        "- <font color='blue'>**They need <font color='green'>304</font> new enrollees.**</font>"
      ],
      "metadata": {
        "id": "7gvcs8OH18Dh"
      }
    },
    {
      "cell_type": "markdown",
      "source": [
        "**<font color='red' size='8px'>Question 6</font>**\n",
        "\n",
        "To study the effect of cigarette smoking on platelet aggregation, researchers drew blood samples from 11 individuals before and after they smoked a cigarette and measured the percentage of blood platelet aggregation. Platelets are involved in the formation of blood clots, and it is known that smokers suffer from disorders involving blood clots more than non-smokers. Test the null hypothesis that the means before and after are the same. Use significance level 𝛼 = 0.05.\n",
        "\n",
        "\n",
        "<font color='blue' size='4px'>Before | <font color='blue' size='4px'>After|\n",
        ":---:|:---:\n",
        "<font size='4px'>**25**|<font size='4px'>**27**\n",
        "<font size='4px'>**25**|<font size='4px'>**29**\n",
        "<font size='4px'>**27**|<font size='4px'>**37**\n",
        "<font size='4px'>**44**|<font size='4px'>**56**\n",
        "<font size='4px'>**30**|<font size='4px'>**46**\n",
        "<font size='4px'>**67**|<font size='4px'>**82**\n",
        "<font size='4px'>**53**|<font size='4px'>**57**\n",
        "<font size='4px'>**52**|<font size='4px'>**61**\n",
        "<font size='4px'>**53**|<font size='4px'>**80**\n",
        "<font size='4px'>**60**|<font size='4px'>**59**\n",
        "<font size='4px'>**28**|<font size='4px'>**43**</font>\n",
        "\n",
        "\n",
        "\n",
        "**<font color='green' size=6px>Answer 👇:**</font>"
      ],
      "metadata": {
        "id": "ghiesAQb4-RT"
      }
    },
    {
      "cell_type": "markdown",
      "source": [
        "We want to test that the **means** before and after are the same, So:\n",
        "\n",
        "- **Null Hypothesis ($H_0$)** $\\rightarrow$ **$μ_b$  -  $μ_a$  = 0**\n",
        "- **Alternative Hypothesis ($H_A$)** $\\rightarrow$ **$μ_b$  -  $μ_a$  $\\neq$ 0**\n",
        "\n",
        "The **𝒏** for both after and before are same and it is **11**.\n",
        "\n",
        "So let's calculate the **means** of after and before.\n",
        "\n",
        "**Before:**\n",
        "\n",
        "- **$𝑥̅_b$** = **$\\frac{\\sum_i^n X_i}{n}$**\n",
        "- **$𝑥̅_b$** = <font color='blue'>**42.18**</font>\n",
        "\n",
        "**After:**\n",
        "- **$𝑥̅_a$** = <font color='blue'>**52.45**</font>\n",
        "\n",
        "\n",
        "**Variance**:\n",
        "- **$σ^2$** = **$\\frac{\\sum_i^n (𝐱_i - μ)^2}{𝑵 - 1}$**\n",
        "\n",
        "Variance for **Before**:\n",
        "\n",
        "- **𝐬** = $(25 - 42.18)^2$ + $(25 - 42.18)^2$ + $(27 - 42.18)^2$ + $(44 - 42.18)^2$ + $(30 - 42.18)^2$ + $(67 - 42.18)^2$ + $(53 - 42.18)^2$ + $(52 - 42.18)^2$ + $(53 - 42.18)^2$ + $(60 - 42.18)^2$ + $(28 - 42.18)^2$\n",
        "\n",
        "- **𝐬** = **$\\frac{2435.57}{10}$**\n",
        "- **𝐬** = **243.557**\n",
        "- **𝐬** = <font color='blue'>**15.60**</font>\n",
        "\n",
        "Variance for **After**:\n",
        "- **𝐬** = $(27 - 52.45)^2$ + $(29 - 52.45)^2$ + $(37 - 52.45)^2$ + $(92 - 52.45)^2$ + $(46 - 52.45)^2$ + $(82 - 52.45)^2$ + $(57 - 52.45)^2$ + $(61 - 52.45)^2$ + $(80 - 52.45)^2$ + $(59 - 52.45)^2$ + $(43 - 52.45)^2$\n",
        "\n",
        "- **𝐬** = **$\\frac{3352.99}{10}$**\n",
        "- **𝐬** = **335.299**\n",
        "- **𝐬** = <font color='blue'>**18.31**</font>\n",
        "\n",
        "Let's calculate **standard deviation**:\n",
        "- **𝑺** = **$\\sqrt{\\frac{𝘀_1^2}{𝒏_1} + \\frac{𝘀_2^2}{𝒏_2}}$**\n",
        "\n",
        "- **𝑺** = **$\\sqrt{\\frac{15.60^2}{11} + \\frac{18.31^2}{11}}$**\n",
        "\n",
        "- **𝑺** = **$\\sqrt{\\frac{243.36}{11} + \\frac{928.42}{11}}$**\n",
        "\n",
        "- **𝑺** = **$\\sqrt{\\frac{1171.78}{11}}$**\n",
        "\n",
        "- **𝑺** = **$\\sqrt{106.52}$**\n",
        "\n",
        "- **𝑺** = <font color='blue'>**10.32**</font>\n",
        "\n",
        "\n",
        "**Degrees of freedom**:\n",
        "\n",
        "- **df - 1** = **11 - 1** = <font color='blue'>**10**</font>\n",
        "\n",
        "**Test statistic:**\n",
        "\n",
        "- **t** = **$\\frac{(μ_a - μ_b)}{\\frac{𝑺}{\\sqrt{n}}}$**\n",
        "\n",
        "- **t** = **$\\frac{(52.45 - 42.18)}{\\frac{10.32}{\\sqrt{11}}}$**\n",
        "\n",
        "- **t** = **$\\frac{10.27}{3.16}$**\n",
        "- **t** = <font color='blue'>**3.25**</font>\n",
        "\n",
        "Based on **t-table** for **$T_{10}$**:\n",
        "\n",
        "- **0.002 < <font color='purple'>p-value</font> < 0.01**\n",
        "\n",
        "- <font color='blue'>**Since the calculated p-value is less than the 0.05, we reject the null hypothesis. So there is sufficient evidence to conclude that there is a significant difference in platelet aggregation before and after smoking a cigarette at the 0.05 significance level.**</font>"
      ],
      "metadata": {
        "id": "yU2kUtN45qg5"
      }
    },
    {
      "cell_type": "markdown",
      "source": [
        "**<font color='red' size='8px'>Question 7</font>**\n",
        "\n",
        "The table below shows the heights of 24 men above 20 years of age from US, UK and India. We are interested in whether or not a significant difference exists between the mean heights of these three different countries. Use significance level 𝛼 = 0.05.\n",
        "\n",
        "\n",
        "- **Write the hypotheses for testing if the average height of three groups of men varies.**\n",
        "\n",
        "- **Calculate and conduct analysis using one-way ANOVA and complete the table.**\n",
        "\n",
        "- **What is the conclusion of the test?**\n",
        "\n",
        "<font color='blue' size='4px'>Country (US) | <font color='blue' size='4px'>Country (UK)| <font color='blue' size='4px'>Country (India)|\n",
        ":---:|:---:|:---:\n",
        "<font size='4px'>**180**|<font size='4px'>**170**|<font size='4px'>**171**\n",
        "<font size='4px'>**183**|<font size='4px'>**181**|<font size='4px'>**183**\n",
        "<font size='4px'>**172**|<font size='4px'>**180**|<font size='4px'>**180**\n",
        "<font size='4px'>**178**|<font size='4px'>**179**|<font size='4px'>**175**\n",
        "<font size='4px'>**169**|<font size='4px'>**164**|<font size='4px'>**181**\n",
        "<font size='4px'>**179**|<font size='4px'>**173**|<font size='4px'>**183**\n",
        "<font size='4px'>**178**|<font size='4px'>**180**|<font size='4px'>**176**\n",
        "<font size='4px'>**180**|<font size='4px'>**178**|<font size='4px'>**167**\n",
        "\n",
        "\n",
        "\n",
        "\n",
        "**<font color='green' size=6px>Answer 👇:**</font>"
      ],
      "metadata": {
        "id": "hsDjM0gFmwFr"
      }
    },
    {
      "cell_type": "markdown",
      "source": [
        "\n",
        "**<font color='orange' size='6px'>A)</font>**  \n",
        "First calculate the **mean** of 3 groups:\n",
        "\n",
        "\n",
        "<font color='blue' size='4px'>Groups | <font color='blue' size='4px'>Mean\n",
        ":---:|:---:\n",
        "<font size='4px'>**US**|<font size='4px'>**177.73**\n",
        "<font size='4px'>**UK**|<font size='4px'>**177.5**\n",
        "<font size='4px'>**India**|<font size='4px'>**176.87**</font>\n",
        "\n",
        "The average height of the three groups is slightly different. We can hypothesize that:\n",
        "\n",
        "- **Null Hypothesis ($H_0$)** = <font color='blue'>**The mean outcome is the same across 3 categories.**</font>\n",
        "  - <font color='blue'>**$μ_1 = μ_2 = μ_3$**</font>\n",
        "\n",
        "- **Alternative Hypothesis ($H_A$)** = <font color='blue'>**At least one pair of means are different from each other.**</font>\n",
        "\n",
        "<font size='5px' color='darkgray'>**Finally:**</font>\n",
        "\n",
        "The **Total Mean** for 3 groups is:\n",
        "\n",
        "- **total** = **$\\frac{177.37 + 177.5 + 176.87}{3}$**\n",
        "- **total** = <font color='blue'>**177.24**</font>\n",
        "\n",
        "**<font color='orange' size='6px'>B)</font>**  \n",
        "\n",
        "First We want to calculate **Mean SQ**:\n",
        "\n",
        "- We need to **overal Mean**. It is calculated from part (A).\n",
        "\n",
        "<font color='green' size='5px'>**SST:**</font>\n",
        "\n",
        "To calculate **SST** we use this formula that we learned from lesson:\n",
        "\n",
        "- **SST** = **$\\sum_{i=1}^n(y_i - ȳ)^2$**\n",
        "\n",
        "- **SST** = $(180 - 177.24)^2$ + $(183 - 177.24)^2$ + $(172 - 177.24)^2$ + $(178 - 177.24)^2$ + $(169 - 177.24)^2$ + $(179 - 177.24)^2$ + $(178 - 177.24)^2$ + $(180 - 177.24)^2$ + $(185 - 177.24)^2$ + $(181 - 177.24)^2$ + $(180 - 177.24)^2$ + $(179 - 177.24)^2$ + $(164 - 177.24)^2$ + $(173 - 177.24)^2$ + $(180 - 177.24)^2$ + $(178 - 177.24)^2$ + $(170 - 177.24)^2$ + $(183 - 177.24)^2$ + $(180 - 177.24)^2$ + $(175 - 177.24)^2$ + $(181 - 177.24)^2$ + $(183 - 177.24)^2$ + $(176 - 177.24)^2$ + $(167 - 177.24)^2$\n",
        "\n",
        "- **SST** = <font color='blue'>**104.8576**</font>\n",
        "\n",
        "\n",
        "<font color='green' size='5px'>**SSG:**</font>\n",
        "\n",
        "- **SSG** = **$\\sum_{i=1}^n n_j × (y_i - ȳ)^2$**\n",
        "\n",
        "- **SSG** = $(8 × (177.37 - 177.24)^2$) + $(8 × (177.5 - 177.24)^2$) + $(8 × (176.87 - 177.24)^2$)\n",
        "\n",
        "- **SSG** = <font color='blue'>**1.7712**</font>\n",
        "\n",
        "<font color='green' size='5px'>**SSE:**</font>\n",
        "\n",
        "- **SSE** = **SST - SSG**\n",
        "\n",
        "- **SSE** = <font color='blue'>**103.0864**</font>\n",
        "\n",
        "\n",
        "\n",
        "How about **Degrees of freedom**?\n",
        "\n",
        "We have **3** <font color='red'>**class**</font> or <font color='red'>**groups**</font> (first row) and formula is:\n",
        "\n",
        "- **Df** = **𝐧 - 1**\n",
        "\n",
        "- **𝐧** = **3**\n",
        "\n",
        "- **𝐧** = **𝐧 - 1** = <font color='blue'>**2**</font>\n",
        "\n",
        "\n",
        "For <font color='red'>**Total**</font> (third row):\n",
        "\n",
        "- **𝐧** = **24**\n",
        "\n",
        "- **𝐧** = **𝐧 - 1** = <font color='blue'>**23**</font>\n",
        "\n",
        "\n",
        "For <font color='red'>**Error**</font> (second row):\n",
        "\n",
        "- **𝐧** = **$n_{third} - n_{first}$**\n",
        "\n",
        "- **𝐧** = **23 - 2** = <font color='blue'>**21**</font>\n",
        "\n",
        "\n",
        "For calculating **Mean SQ** each **Sum SQ** should be divided by its own\n",
        "**Degrees of freedom**. So let's do that.\n",
        "\n",
        "\n",
        "For **DF = 2**:\n",
        "\n",
        "- <font color='blue' size='5px'>**$\\frac{1.772}{2}$**</font> = <font color='blue' size='3px'>**0.886**</font>\n",
        "\n",
        "For **DF = 21**:\n",
        "\n",
        "- <font color='blue' size='5px'>**$\\frac{103.0864}{21}$**</font> = <font color='blue' size='3px'>**4.908**</font>\n",
        "\n",
        "For **DF = 23**:\n",
        "\n",
        "- <font color='blue' size='5px'>**$\\frac{104.8579}{23}$**</font> = <font color='blue' size='3px'>**4.559**</font>\n",
        "\n",
        "\n",
        "To calculate <font color='red'>**F-value**</font>:\n",
        "\n",
        "- **F** = **$\\frac{MSG}{MSE}$**\n",
        "\n",
        "- **F** = **$\\frac{0.886}{4.908}$**\n",
        "\n",
        "- **F** = <font color='blue'>**0.180**</font>\n",
        "\n",
        "\n",
        "***\n",
        "***\n",
        "Now table is complete:\n",
        "\n",
        "\n",
        "<font color='black' size='4px'> | <font color='black' size='4px'>|<font color='black' size='4px'>DF|<font color='black' size='4px'>Sum SQ|<font color='black' size='4px'>Mean SQ|<font color='black' size='4px'>F-value</font>\n",
        ":---:|:---:|:---:|:---:|:---:|:---:\n",
        "<font size='2px' color='red'>**Group**|<font size='2px' color='red'>**Class**|<font size='3px' color='darkblue'>**2**|<font size='3px' color='darkblue'>**1.772**|<font size='3px' color='darkblue'>**0.886**|<font size='3px' color='darkblue'>**0.180**\n",
        "<font size='2px' color='red'>**Error**|<font size='2px' color='red'>**Residuals**|<font size='3px' color='darkblue'>**21**|<font size='3px' color='darkblue'>**103.0864**|<font size='3px' color='darkblue'>**4.908**\n",
        "<font size='3px' color='darkblue'>|<font size='2px' color='red'>**Total**|<font size='3px' color='darkblue'>**23**|<font size='3px' color='darkblue'>**104.8579**|<font size='3px' color='darkblue'>**4.559**</font>\n",
        "\n",
        "\n",
        "**<font color='orange' size='6px'>C)</font>**  \n",
        "\n",
        "Based on what we calculated for **f-value**, the **Pr(>F)** is:\n",
        "\n",
        "- <font color='blue'>**0.50 < Pr(>F) < 1.00**</font>\n",
        "\n",
        "- So **Pr(>F)** is greater than **α = 0.05** so we fail to <font color='red'>**fail to reject**</font> null hypothesis $H_0$. Therefore, we conclude that there is no significant difference in mean heights among the three countries (US, UK, and India) at the 0.05 significance level."
      ],
      "metadata": {
        "id": "fCuw4h6Nn3YJ"
      }
    },
    {
      "cell_type": "markdown",
      "source": [
        "**<font color='red' size='8px'>Question 8</font>**\n",
        "\n",
        "<font color='blue'>(R)</font> The dataset **Diet** contains information about 78 people who began to follow 3 different types of diets (referred to as diets A, B, and C). This exercise aims to see which diet is most effective at losing weight.\n",
        "\n",
        "- **Plot the three group’s data using side-by-side boxplots.**\n",
        "\n",
        "- **Use ANOVA in R to determine whether there is a significant difference in the mean weight loss between groups.**\n",
        "\n",
        "- **Display and analyze the results.**\n",
        "\n",
        "- **Compare the weight loss between the two groups in R and:**\n",
        "  - **Write the hypothesis.**\n",
        "  - **Report the level of significance of the test and the decision about the hypothesis.**\n",
        "  - **Estimate the size of the difference in the mean drop; use 𝛼=0.05.**\n",
        "\n",
        "\n",
        "\n",
        "\n",
        "\n",
        "**<font color='green' size=6px>Answer 👇:**</font>"
      ],
      "metadata": {
        "id": "WVoH2r24Dwtt"
      }
    },
    {
      "cell_type": "markdown",
      "source": [
        "**<font color='orange' size='6px'>A)</font>**  \n"
      ],
      "metadata": {
        "id": "DzilOnpss2sa"
      }
    },
    {
      "cell_type": "code",
      "source": [
        "# Load dataset and library\n",
        "library(ggplot2)\n",
        "data <- read.csv('diet.csv')"
      ],
      "metadata": {
        "id": "zsUdm_CCENri"
      },
      "execution_count": 2,
      "outputs": []
    },
    {
      "cell_type": "code",
      "source": [
        "head(data)"
      ],
      "metadata": {
        "colab": {
          "base_uri": "https://localhost:8080/",
          "height": 286
        },
        "id": "LC0G0KOsnoIM",
        "outputId": "7dd003ae-6ebe-446a-d665-4e42350fccd4"
      },
      "execution_count": null,
      "outputs": [
        {
          "output_type": "display_data",
          "data": {
            "text/html": [
              "<table class=\"dataframe\">\n",
              "<caption>A data.frame: 6 × 7</caption>\n",
              "<thead>\n",
              "\t<tr><th></th><th scope=col>id</th><th scope=col>gender</th><th scope=col>age</th><th scope=col>height</th><th scope=col>diet.type</th><th scope=col>initial.weight</th><th scope=col>final.weight</th></tr>\n",
              "\t<tr><th></th><th scope=col>&lt;int&gt;</th><th scope=col>&lt;chr&gt;</th><th scope=col>&lt;int&gt;</th><th scope=col>&lt;int&gt;</th><th scope=col>&lt;chr&gt;</th><th scope=col>&lt;int&gt;</th><th scope=col>&lt;dbl&gt;</th></tr>\n",
              "</thead>\n",
              "<tbody>\n",
              "\t<tr><th scope=row>1</th><td>1</td><td>Female</td><td>22</td><td>159</td><td>A</td><td>58</td><td>54.2</td></tr>\n",
              "\t<tr><th scope=row>2</th><td>2</td><td>Female</td><td>46</td><td>192</td><td>A</td><td>60</td><td>54.0</td></tr>\n",
              "\t<tr><th scope=row>3</th><td>3</td><td>Female</td><td>55</td><td>170</td><td>A</td><td>64</td><td>63.3</td></tr>\n",
              "\t<tr><th scope=row>4</th><td>4</td><td>Female</td><td>33</td><td>171</td><td>A</td><td>64</td><td>61.1</td></tr>\n",
              "\t<tr><th scope=row>5</th><td>5</td><td>Female</td><td>50</td><td>170</td><td>A</td><td>65</td><td>62.2</td></tr>\n",
              "\t<tr><th scope=row>6</th><td>6</td><td>Female</td><td>50</td><td>201</td><td>A</td><td>66</td><td>64.0</td></tr>\n",
              "</tbody>\n",
              "</table>\n"
            ],
            "text/markdown": "\nA data.frame: 6 × 7\n\n| <!--/--> | id &lt;int&gt; | gender &lt;chr&gt; | age &lt;int&gt; | height &lt;int&gt; | diet.type &lt;chr&gt; | initial.weight &lt;int&gt; | final.weight &lt;dbl&gt; |\n|---|---|---|---|---|---|---|---|\n| 1 | 1 | Female | 22 | 159 | A | 58 | 54.2 |\n| 2 | 2 | Female | 46 | 192 | A | 60 | 54.0 |\n| 3 | 3 | Female | 55 | 170 | A | 64 | 63.3 |\n| 4 | 4 | Female | 33 | 171 | A | 64 | 61.1 |\n| 5 | 5 | Female | 50 | 170 | A | 65 | 62.2 |\n| 6 | 6 | Female | 50 | 201 | A | 66 | 64.0 |\n\n",
            "text/latex": "A data.frame: 6 × 7\n\\begin{tabular}{r|lllllll}\n  & id & gender & age & height & diet.type & initial.weight & final.weight\\\\\n  & <int> & <chr> & <int> & <int> & <chr> & <int> & <dbl>\\\\\n\\hline\n\t1 & 1 & Female & 22 & 159 & A & 58 & 54.2\\\\\n\t2 & 2 & Female & 46 & 192 & A & 60 & 54.0\\\\\n\t3 & 3 & Female & 55 & 170 & A & 64 & 63.3\\\\\n\t4 & 4 & Female & 33 & 171 & A & 64 & 61.1\\\\\n\t5 & 5 & Female & 50 & 170 & A & 65 & 62.2\\\\\n\t6 & 6 & Female & 50 & 201 & A & 66 & 64.0\\\\\n\\end{tabular}\n",
            "text/plain": [
              "  id gender age height diet.type initial.weight final.weight\n",
              "1 1  Female 22  159    A         58             54.2        \n",
              "2 2  Female 46  192    A         60             54.0        \n",
              "3 3  Female 55  170    A         64             63.3        \n",
              "4 4  Female 33  171    A         64             61.1        \n",
              "5 5  Female 50  170    A         65             62.2        \n",
              "6 6  Female 50  201    A         66             64.0        "
            ]
          },
          "metadata": {}
        }
      ]
    },
    {
      "cell_type": "code",
      "source": [
        "# Plot the three group’s data using side-by-side boxplots\n",
        "# We use both ggplot and boxplot\n",
        "# ggplot\n",
        "ggplot(data, aes(x=diet.type, y=final.weight, fill=diet.type)) +\n",
        "    geom_boxplot() +\n",
        "    labs(title=\"Three groups of A,B,C\",\n",
        "        x = \"Diet Type\",\n",
        "        y = \"Final Weight\")"
      ],
      "metadata": {
        "colab": {
          "base_uri": "https://localhost:8080/",
          "height": 437
        },
        "id": "gCw-L972rITs",
        "outputId": "ff93fba2-bd0a-49c6-848e-35a01f129191"
      },
      "execution_count": null,
      "outputs": [
        {
          "output_type": "display_data",
          "data": {
            "text/plain": [
              "plot without title"
            ],
            "image/png": "[encoded data removed]"
          },
          "metadata": {
            "image/png": {
              "width": 420,
              "height": 420
            }
          }
        }
      ]
    },
    {
      "cell_type": "code",
      "source": [
        "# Boxplot\n",
        "colors <- c(\"purple\", \"orange\", \"cyan\")\n",
        "boxplot(final.weight ~ diet.type, data = data, cex.axis = 0.6, col=colors, xlab='Final Weight',ylab='Diet Type',main='Compare three type of diet groups')"
      ],
      "metadata": {
        "colab": {
          "base_uri": "https://localhost:8080/",
          "height": 437
        },
        "id": "GnKQzojM2_QY",
        "outputId": "9ef4c84f-7504-4b96-8d39-ec928cf28242"
      },
      "execution_count": null,
      "outputs": [
        {
          "output_type": "display_data",
          "data": {
            "text/plain": [
              "Plot with title “Compare three type of diet groups”"
            ],
            "image/png": "[encoded data removed]"
          },
          "metadata": {
            "image/png": {
              "width": 420,
              "height": 420
            }
          }
        }
      ]
    },
    {
      "cell_type": "markdown",
      "source": [
        "**<font color='orange' size='6px'>B)</font>**  \n"
      ],
      "metadata": {
        "id": "Wli2jKgZs4FA"
      }
    },
    {
      "cell_type": "code",
      "source": [
        "# Compute the analysis of variance\n",
        "res.aov <- aov(final.weight ~ diet.type, data = data)"
      ],
      "metadata": {
        "id": "v4Z25WvDs4w7"
      },
      "execution_count": null,
      "outputs": []
    },
    {
      "cell_type": "markdown",
      "source": [
        "**<font color='orange' size='6px'>C)</font>**  \n"
      ],
      "metadata": {
        "id": "9m8v8-Pz1sdv"
      }
    },
    {
      "cell_type": "code",
      "source": [
        "# Summary of the analysis\n",
        "summary(res.aov)"
      ],
      "metadata": {
        "colab": {
          "base_uri": "https://localhost:8080/",
          "height": 69
        },
        "id": "m1mnJ-IC1tra",
        "outputId": "ec71c7ad-bf78-498a-f4b8-4f389b86c785"
      },
      "execution_count": null,
      "outputs": [
        {
          "output_type": "display_data",
          "data": {
            "text/plain": [
              "            Df Sum Sq Mean Sq F value Pr(>F)\n",
              "diet.type    2     81   40.62   0.619  0.541\n",
              "Residuals   73   4790   65.61               "
            ]
          },
          "metadata": {}
        }
      ]
    },
    {
      "cell_type": "markdown",
      "source": [
        "Here's how to interpret the output:\n",
        "\n",
        "- **Df (Degrees of Freedom):** This column shows the degrees of freedom associated with the sources of variation in the model. For ANOVA, there are two sources of variation: between groups (diet types) and within groups (residuals).\n",
        "- **Sum Sq (Sum of Squares):** This column shows the sum of squares associated with each source of variation.\n",
        "- **Mean Sq (Mean Square):** This column shows the mean square, which is the sum of squares divided by the degrees of freedom.\n",
        "- **F value:** This column shows the F-statistic, which is the ratio of the mean square for diet types to the mean square for residuals. It indicates whether there is a significant difference between the means of the groups.\n",
        "- **Pr(>F) (p-value):** This column shows the p-value associated with the F-statistic. It indicates the probability of observing the data if the null hypothesis (no difference between group means) is true.\n",
        "\n",
        "We have 3 groups so the Class is 2 and the error or redidulas are 73 and total degrees of freedom is 75.\n",
        "\n",
        "SSG is 81, SSE is 4790 and SST is 4871. Other value is obvious.\n",
        "\n",
        "If We compare **p-value** with **α = 0.05**, We can conclude that there is no difference in the mean weight loss between groups."
      ],
      "metadata": {
        "id": "9YlSXsDUCfoB"
      }
    },
    {
      "cell_type": "markdown",
      "source": [
        "**<font color='orange' size='6px'>D)</font>**  \n"
      ],
      "metadata": {
        "id": "5_XJLQj612Yk"
      }
    },
    {
      "cell_type": "markdown",
      "source": [
        "<font color='blue' size='5px'>**Write the hypothesis:**</font>\n",
        "\n",
        "<font color='purple'>**Pair A-B:**</font>\n",
        "- **Null Hypothesis ($H_0$)**: <font color='green'>**There is no difference in the mean weight loss between groups A and B.**</font>\n",
        "- **Alternative Hypothesis ($H_A$)**: <font color='green'>**There is a difference in the mean weight loss between groups A and B.**</font>\n",
        "\n",
        "<font color='purple'>**Pair A-C:**</font>\n",
        "- **Null Hypothesis ($H_0$)**: <font color='green'>**There is no difference in the mean weight loss between groups A and C.**</font>\n",
        "- **Alternative Hypothesis ($H_A$)**: <font color='green'>**There is a difference in the mean weight loss between groups A and C.**</font>\n",
        "\n",
        "<font color='purple'>**Pair B-C:**</font>\n",
        "- **Null Hypothesis ($H_0$)**: <font color='green'>**There is no difference in the mean weight loss between groups B and C.**</font>\n",
        "- **Alternative Hypothesis ($H_A$)**: <font color='green'>**There is a difference in the mean weight loss between groups B and C.**</font>\n",
        "\n",
        "\n",
        "<font color='red'>**In General:**</font>\n",
        "- **Null Hypothesis ($H_0$)**: <font color='green'>**There is no difference in the mean weight loss between groups.**</font>\n",
        "- **Alternative Hypothesis ($H_A$)**: <font color='green'>**There is at least one difference in the mean weight loss between one of the pair of these groups.**</font>"
      ],
      "metadata": {
        "id": "0BD5U23P33X1"
      }
    },
    {
      "cell_type": "markdown",
      "source": [
        "<font color='blue' size='5px'>**Report the level of significance of the test and the decision about the hypothesis:**</font>\n",
        "\n"
      ],
      "metadata": {
        "id": "-bOc2iBT4UKx"
      }
    },
    {
      "cell_type": "code",
      "source": [
        "# Perform pairwise t-tests\n",
        "pairwise_result <- pairwise.t.test(data$final.weight, data$diet.type, p.adjust.method = \"bonferroni\")\n",
        "\n",
        "# Print the results\n",
        "print(pairwise_result)"
      ],
      "metadata": {
        "colab": {
          "base_uri": "https://localhost:8080/"
        },
        "id": "9omQdDGM65dq",
        "outputId": "d80bd978-2910-45f8-aae5-da9d847eae70"
      },
      "execution_count": 25,
      "outputs": [
        {
          "output_type": "stream",
          "name": "stdout",
          "text": [
            "\n",
            "\tPairwise comparisons using t tests with pooled SD \n",
            "\n",
            "data:  data$final.weight and data$diet.type \n",
            "\n",
            "  A    B   \n",
            "B 0.82 -   \n",
            "C 1.00 1.00\n",
            "\n",
            "P value adjustment method: bonferroni \n"
          ]
        }
      ]
    },
    {
      "cell_type": "markdown",
      "source": [
        "If we consider **α = 0.05** then we have:\n",
        "- We should modify α\n",
        "- There are 3 groups (A,B,C)\n",
        "- $\\frac{k(k-1)}{2}$ = $\\frac{3 * 2)}{2}$ = <font color='blue'>**3**</font>\n",
        "\n",
        "So:\n",
        "\n",
        "- **α = $\\frac{0.05}{3}$ = <font color='blue'>0.016**</font>"
      ],
      "metadata": {
        "id": "t0j_8KQk8-jm"
      }
    },
    {
      "cell_type": "code",
      "source": [
        "t_test_AB <- t.test(data$final.weight[data$diet.type == \"A\"], data$final.weight[data$diet.type == \"B\"])\n",
        "t_test_AC <- t.test(data$final.weight[data$diet.type == \"A\"], data$final.weight[data$diet.type == \"C\"])\n",
        "t_test_BC <- t.test(data$final.weight[data$diet.type == \"B\"], data$final.weight[data$diet.type == \"C\"])\n",
        "\n",
        "# Determine significance level\n",
        "alpha <- 0.016\n",
        "\n",
        "# Make decisions based on p-values\n",
        "decisions <- c(\"A-B\" = ifelse(t_test_AB$p.value < alpha, \"Reject H0\", \"Fail to reject H0\"),\n",
        "               \"A-C\" = ifelse(t_test_AC$p.value < alpha, \"Reject H0\", \"Fail to reject H0\"),\n",
        "               \"B-C\" = ifelse(t_test_BC$p.value < alpha, \"Reject H0\", \"Fail to reject H0\"))"
      ],
      "metadata": {
        "id": "s6f-cPCK3j4V"
      },
      "execution_count": 26,
      "outputs": []
    },
    {
      "cell_type": "code",
      "source": [
        "# Display results\n",
        "cat(\"Test Results:\\n\")\n",
        "cat(\"Significance level (alpha):\", alpha, \"\\n\")\n",
        "cat(\"Pair A-B:\\n\")\n",
        "cat(\"  P-value:\", t_test_AB$p.value, \"\\n\")\n",
        "cat(\"  Decision about the hypothesis:\", decisions[\"A-B\"], \"\\n\")\n",
        "cat(\"Pair A-C:\\n\")\n",
        "cat(\"  P-value:\", t_test_AC$p.value, \"\\n\")\n",
        "cat(\"  Decision about the hypothesis:\", decisions[\"A-C\"], \"\\n\")\n",
        "cat(\"Pair B-C:\\n\")\n",
        "cat(\"  P-value:\", t_test_BC$p.value, \"\\n\")\n",
        "cat(\"  Decision about the hypothesis:\", decisions[\"B-C\"], \"\\n\")"
      ],
      "metadata": {
        "colab": {
          "base_uri": "https://localhost:8080/"
        },
        "id": "obLaNVEm3pbH",
        "outputId": "0f786f42-2c9d-42d1-dd5f-a12b7944a5bf"
      },
      "execution_count": 27,
      "outputs": [
        {
          "output_type": "stream",
          "name": "stdout",
          "text": [
            "Test Results:\n",
            "Significance level (alpha): 0.016 \n",
            "Pair A-B:\n",
            "  P-value: 0.2701747 \n",
            "  Decision about the hypothesis: Fail to reject H0 \n",
            "Pair A-C:\n",
            "  P-value: 0.6417684 \n",
            "  Decision about the hypothesis: Fail to reject H0 \n",
            "Pair B-C:\n",
            "  P-value: 0.5077361 \n",
            "  Decision about the hypothesis: Fail to reject H0 \n"
          ]
        }
      ]
    },
    {
      "cell_type": "markdown",
      "source": [
        "- **p-value = 0.2702 > α = 0.016, So We <font color='red'>fail to reject</font> the null hypothesis $H_0$. It means there is no difference in the mean weight loss between groups A and B.**\n",
        "\n",
        "- **p-value = 0.641 > α = 0.016, So We <font color='red'>fail to reject</font> the null hypothesis $H_0$. It means there is no difference in the mean weight loss between groups A and C.**\n",
        "\n",
        "- **p-value = 0.507 > α = 0.016, So We <font color='red'>fail to reject</font> the null hypothesis $H_0$. It means there is no difference in the mean weight loss between groups B and C.**\n",
        "\n",
        "\n",
        "So There is no difference between these groups."
      ],
      "metadata": {
        "id": "2seBBq6N30FU"
      }
    },
    {
      "cell_type": "markdown",
      "source": [
        "<font color='blue' size='5px'>**Estimate the size of the difference in the mean drop; use 𝛼=0.05:**</font>\n"
      ],
      "metadata": {
        "id": "1qNOyFDHCOWs"
      }
    },
    {
      "cell_type": "code",
      "source": [
        "# Estimate effect sizes\n",
        "mean_diff_AB <- mean(data$final.weight[data$diet.type == \"A\"]) - mean(data$final.weight[data$diet.type == \"B\"])\n",
        "mean_diff_AC <- mean(data$final.weight[data$diet.type == \"A\"]) - mean(data$final.weight[data$diet.type == \"C\"])\n",
        "mean_diff_BC <- mean(data$final.weight[data$diet.type == \"B\"]) - mean(data$final.weight[data$diet.type == \"C\"])\n",
        "\n",
        "# Display results\n",
        "cat(\"Test Results:\\n\")\n",
        "cat(\"  Estimated size of the difference in mean drop:\", mean_diff_AB, \"\\n\")\n",
        "\n",
        "cat(\"Pair A-C:\\n\")\n",
        "cat(\"  Estimated size of the difference in mean drop:\", mean_diff_AC, \"\\n\")\n",
        "\n",
        "cat(\"Pair B-C:\\n\")\n",
        "cat(\"  Estimated size of the difference in mean drop:\", mean_diff_BC, \"\\n\")"
      ],
      "metadata": {
        "colab": {
          "base_uri": "https://localhost:8080/"
        },
        "id": "oM5kr9Ho4mcU",
        "outputId": "f3705341-d012-47e8-9142-f4a446782e94"
      },
      "execution_count": 22,
      "outputs": [
        {
          "output_type": "stream",
          "name": "stdout",
          "text": [
            "Test Results:\n",
            "  Estimated size of the difference in mean drop: 2.563 \n",
            "Pair A-C:\n",
            "  Estimated size of the difference in mean drop: 1.093519 \n",
            "Pair B-C:\n",
            "  Estimated size of the difference in mean drop: -1.469481 \n"
          ]
        }
      ]
    },
    {
      "cell_type": "markdown",
      "source": [
        "- **Calculate Confidence Interval**"
      ],
      "metadata": {
        "id": "1eHAoVeb42l0"
      }
    },
    {
      "cell_type": "code",
      "source": [
        "group_A <- data$final.weight[data$diet.type == \"A\"]\n",
        "group_B <- data$final.weight[data$diet.type == \"B\"]\n",
        "group_C <- data$final.weight[data$diet.type == \"C\"]"
      ],
      "metadata": {
        "id": "1e0dQ_gR5Acc"
      },
      "execution_count": 31,
      "outputs": []
    },
    {
      "cell_type": "code",
      "source": [
        "# Calculate the confidence interval for the mean difference\n",
        "conf_interval <- t.test(group_A, group_B,alternative = \"two.sided\",alpha=0.05)$conf.int\n",
        "\n",
        "# Extract the lower and upper bounds of the confidence interval\n",
        "lower_bound <- conf_interval[1]\n",
        "upper_bound <- conf_interval[2]\n",
        "\n",
        "# Display the confidence interval\n",
        "cat(\"The 95% confidence interval for the mean difference is:\", lower_bound, \",\", upper_bound, \"\\n\")"
      ],
      "metadata": {
        "colab": {
          "base_uri": "https://localhost:8080/"
        },
        "id": "VLbJS1Te6Oar",
        "outputId": "7bd0db0b-7591-4040-dab2-cd6461fbb748"
      },
      "execution_count": 33,
      "outputs": [
        {
          "output_type": "stream",
          "name": "stdout",
          "text": [
            "The 95% confidence interval for the mean difference is: -2.059161 , 7.185161 \n"
          ]
        }
      ]
    },
    {
      "cell_type": "markdown",
      "source": [
        "- **we are <font color='green'>95%</font> confident that the true difference in mean weight loss between groups A and B lies between <font color='blue'>(-2.059161 , 7.185161)</font>.**"
      ],
      "metadata": {
        "id": "lIwLFTepF92A"
      }
    },
    {
      "cell_type": "code",
      "source": [
        "# Calculate the confidence interval for the mean difference\n",
        "conf_interval <- t.test(group_A, group_C,alternative = \"two.sided\",alpha=0.05)$conf.int\n",
        "\n",
        "# Extract the lower and upper bounds of the confidence interval\n",
        "lower_bound <- conf_interval[1]\n",
        "upper_bound <- conf_interval[2]\n",
        "\n",
        "# Display the confidence interval\n",
        "cat(\"The 95% confidence interval for the mean difference is:\", lower_bound, \",\", upper_bound, \"\\n\")"
      ],
      "metadata": {
        "colab": {
          "base_uri": "https://localhost:8080/"
        },
        "outputId": "d87579ce-5d2c-429d-ab42-1acc0fde2e58",
        "id": "KMy3I78J5K6q"
      },
      "execution_count": 20,
      "outputs": [
        {
          "output_type": "stream",
          "name": "stdout",
          "text": [
            "The 95% confidence interval for the mean difference is: -3.60245 , 5.789487 \n"
          ]
        }
      ]
    },
    {
      "cell_type": "markdown",
      "source": [
        "- **we are <font color='green'>95%</font> confident that the true difference in mean weight loss between groups A and C lies between <font color='blue'>(-3.60245 , 5.789487)</font>.**"
      ],
      "metadata": {
        "id": "ei04a5-i5K6r"
      }
    },
    {
      "cell_type": "code",
      "source": [
        "# Calculate the confidence interval for the mean difference\n",
        "conf_interval <- t.test(group_B, group_C,alternative = \"two.sided\",alpha=0.05)$conf.int\n",
        "\n",
        "# Extract the lower and upper bounds of the confidence interval\n",
        "lower_bound <- conf_interval[1]\n",
        "upper_bound <- conf_interval[2]\n",
        "\n",
        "# Display the confidence interval\n",
        "cat(\"The 95% confidence interval for the mean difference is:\", lower_bound, \",\", upper_bound, \"\\n\")"
      ],
      "metadata": {
        "colab": {
          "base_uri": "https://localhost:8080/"
        },
        "outputId": "593082f4-d7e1-47ca-ddf4-ce08b1d73f62",
        "id": "bLEYOZ705LZ9"
      },
      "execution_count": 21,
      "outputs": [
        {
          "output_type": "stream",
          "name": "stdout",
          "text": [
            "The 95% confidence interval for the mean difference is: -5.893506 , 2.954543 \n"
          ]
        }
      ]
    },
    {
      "cell_type": "markdown",
      "source": [
        "- **we are <font color='green'>95%</font> confident that the true difference in mean weight loss between groups B and C lies between <font color='blue'>(-5.893506 , 2.954543)</font>.**"
      ],
      "metadata": {
        "id": "8ktsDijZ5LaA"
      }
    }
  ]
}