{
  "nbformat": 4,
  "nbformat_minor": 0,
  "metadata": {
    "colab": {
      "provenance": []
    },
    "kernelspec": {
      "name": "ir",
      "display_name": "R"
    },
    "language_info": {
      "name": "R"
    }
  },
  "cells": [
    {
      "cell_type": "markdown",
      "source": [
        "**<font color='red' size='5px'>Question 1</font>**\n",
        "\n",
        "The average house price in New York based on the random sample of **81** houses is **\\$800,000**. Assume that population standard deviation 𝜎 equals **\\$90,000**.\n",
        " - **Compute a 98% confidence interval for the population mean 𝜇.**\n",
        " - **Compute a 95% confidence interval for the population mean 𝜇.**\n",
        " - **Compute a 90% confidence interval for the population mean 𝜇.**\n",
        " - **Compute a 50% confidence interval for the population mean 𝜇.**\n",
        " - **Write a one-sentence interpretation of the confidence interval.**\n",
        " - **Express the intuition behind different confidence intervals and obtained results.**\n",
        " - **How many such houses should be sampled in order to obtain a 99% confidence interval with a margin of error less than or equal to \\$5,000?**\n",
        " -  **How would the required sample size change if we want to decrease the margin of the error to \\$2,500?**\n",
        "\n",
        "**<font color='green' size=5px>Answer 👇:**</font>"
      ],
      "metadata": {
        "id": "FfzGZmhKcrOC"
      }
    },
    {
      "cell_type": "markdown",
      "source": [
        "\n",
        "First, given informations are:\n",
        "\n",
        "- **n** (random sample) = **81**\n",
        "- **Average house price (𝑥̅)** = **\\$800000**\n",
        "- **Standard deviation ($\\sigma$)** = **\\$90000**\n",
        "\n",
        "Let's compute **SE**:\n",
        "- SE = $\\frac{s}{\\sqrt[]n}$ = $\\frac{90000}{\\sqrt[]81}$ = <font\n",
        "color='green'>**10000**</font>\n",
        "\n",
        "The formula for **confidence interval** is:\n",
        "\n",
        "- **𝑥̅ $\\pm$ Z*SE**\n",
        "\n",
        "**<font color='orange' size='6px'>A)</font>**  \n",
        "\n",
        "Based on **z table** 98% = <font color='blue'>**(2.32)**</font>\n",
        "\n",
        "- <font color='green'>**800000 + (2.32) * (10000) = 823200**\n",
        "- **800000 - (2.32) * (10000) = 776800**</font>\n",
        "\n",
        "The range is **(776800 , 823200)**\n",
        "\n",
        "**<font color='orange' size='6px'>B)</font>**  \n",
        "Based on **z table** 95% = <font color='blue'>**(1.96)**</font>\n",
        "\n",
        "- <font color='green'>**800000 + (1.96) * (10000) = 819600**\n",
        "- **800000 - (1.96) * (10000) = 780400**</font>\n",
        "\n",
        "The range is **(780400 , 819600)**\n",
        "\n",
        "\n",
        "**<font color='orange' size='6px'>C)</font>**  \n",
        "Based on **z table** 90% = <font color='blue'>**(1.64)**</font>\n",
        "\n",
        "- <font color='green'>**800000 + (1.64) * (10000) = 816400**\n",
        "- **800000 - (1.64) * (10000) = 783000**</font>\n",
        "\n",
        "The range is **(783000 , 816400)**\n",
        "\n",
        "\n",
        "**<font color='orange' size='6px'>D)</font>**  \n",
        "Based on **z table** 50% = <font color='blue'>**(0.00)**</font>\n",
        "\n",
        "- <font color='green'>**800000 + (0.00) * (10000) = 800000**\n",
        "- **800000 - (0.00) * (10000) = 800000**</font>\n",
        "\n",
        "The range is **(800000 , 800000)**\n",
        "\n",
        "\n",
        "**<font color='orange' size='6px'>E)</font>**  \n",
        "\n",
        "- describes a range of values within which we can be reasonably sure that the true effect actually lies.\n",
        "\n",
        "for example:\n",
        "-  We are **XX%** confident that the average price house is **XX** to **YY**\n",
        "\n",
        "\n",
        "**<font color='orange' size='6px'>F)</font>**  \n",
        "\n",
        "- When the confidence interval is smaller, the intervals are also smaller. On the contrary, when the confidence interval is larger, the intervals are also larger. For example, when we increase the confidence interval from 90% to 98%, the intervals also increase and a wider range of the population is included in it. As a result, we can say with more confidence that we are 98% sure that the average price of 81 random samples of houses in The intervals of this confidence interval are located. Conversely, at 50% confidence, we are only expressing the range within which the sample mean lies, providing the least amount of certainty.\n",
        "\n",
        "\n",
        "**<font color='orange' size='6px'>G)</font>**  \n",
        "\n",
        "- **Margin of error** $\\leq$ 5000\n",
        "- **CL** = 99%\n",
        "\n",
        "We have other informations before.\n",
        "\n",
        "The formula for calculating this part is:\n",
        "\n",
        "- **ME** = **z*$\\frac{s}{\\sqrt[]n}$**, So:\n",
        "  - **n = ($\\frac{z*n}{ME}$)$^2$**\n",
        "\n",
        "\n",
        "Based on **z table** 99% = <font color='blue'>**(2.57)**</font>\n",
        "\n",
        "- <font color='green'>**n = ($\\frac{2.57*90000}{5000}$)$^2$**</font>\n",
        "\n",
        "- <font color='green'>**n = 2139.9876**</font>\n",
        "\n",
        "- <font color='green'>**n $\\approx$ 2140**</font>\n",
        "\n",
        "So **2140** houses should be sampled.\n",
        "\n",
        "**<font color='orange' size='6px'>H)</font>**  \n",
        "If we want to halve the margin of error, we have according to the formula:\n",
        "\n",
        "- **ME** = **z*$\\frac{s}{\\sqrt[]n}$**\n",
        "\n",
        "- **$\\frac{1}{2}$ME** = **$\\frac{1}{2}$z*$\\frac{s}{\\sqrt[]n}$**\n",
        "\n",
        "- **$\\frac{1}{2}$ME** = **z*$\\frac{s}{\\sqrt[]4n}$**\n",
        "\n",
        "So:\n",
        "\n",
        "- <font color='green'>**n = 4 * 2140**</font>\n",
        "\n",
        "- <font color='green'>**n = 8560**</font>\n",
        "\n",
        "So **n $\\approx$ 8560**. It means if we want to halve the margin of error, We should sample 8560 houses!"
      ],
      "metadata": {
        "id": "oGAGCeGnCY4g"
      }
    },
    {
      "cell_type": "markdown",
      "source": [
        "**<font color='red' size='5px'>Question 2</font>**\n",
        "\n",
        "Based on research, on average, high school teens spend almost seven hours each weekday on educational activities. You think that this is underestimated and want to collect your own sample for a hypothesis test. You randomly sample 70 students from your dorm and find that on average they spend 10 hours each weekday on education activity. One of your friends wants to help you and comes up with the following hypothesis. Indicate any error you see.\n",
        "\n",
        "                              𝐻0: 𝑥̅ < 7 ℎ𝑜𝑢𝑟𝑠\n",
        "                              𝐻A : 𝑥̅ > 10 ℎ𝑜𝑢𝑟𝑠\n",
        "\n",
        "**<font color='green' size=5px>Answer 👇:**</font>"
      ],
      "metadata": {
        "id": "keAG1Kpsxjbc"
      }
    },
    {
      "cell_type": "markdown",
      "source": [
        "The error in my friend's hypothesis is that only propose a two-tailed test, indicating that the average time spent on educational activities could be either greater or less than 7 hours. However, my suspicion is that the reported average of 7 hours is underestimated. Hence, my alternative hypothesis should reflect this directionality.\n",
        "\n",
        "Therefore, the correct alternative hypothesis $H_1$:\n",
        "- The average time high school teens spend on educational activities is greater than 7 hours each weekday.\n",
        "\n",
        "\n",
        "It can be said that the collected data can have better randomness. 70 samples have been collected from the dormitory. Does it include all students? Maybe it is better to randomly select a number of students from each class (the question does not say anything about this)\n"
      ],
      "metadata": {
        "id": "qUH_1HFOye3x"
      }
    },
    {
      "cell_type": "markdown",
      "source": [
        "**<font color='red' size='5px'>Question 3</font>**\n",
        "\n",
        "A mayor claims that in his small city, which is renowned for its music school, the average child takes at least 5 years of piano lessons. We have a random sample of 20 children from the city, with a mean of 4.6 years of piano lessons and a standard deviation of 2.2 years.\n",
        "\n",
        "- **Evaluate his claim using a hypothesis test (assume 𝛼 = 0.05).**\n",
        "- **Construct a 95% confidence interval for the number of years students in this city take piano lessons and interpret it in the context of the data.**\n",
        "- **Do your results from the hypothesis test and the confidence interval agree? Explain your reasoning.**\n",
        "\n",
        "**<font color='green' size=5px>Answer 👇:**</font>"
      ],
      "metadata": {
        "id": "CJbUASN33vuO"
      }
    },
    {
      "cell_type": "markdown",
      "source": [
        "Given informations:\n",
        "\n",
        "- **n** = **20**\n",
        "- **𝑥̅** = **4.6**\n",
        "- **$\\sigma$** = **2.2**\n",
        "- **SE** = $\\frac{s}{\\sqrt[]n}$ = $\\frac{2.2}{\\sqrt[]20}$ = **0.49**\n",
        "\n",
        "**<font color='orange' size='6px'>A)</font>**  \n",
        "- $\\alpha$ = 0.05\n",
        "\n",
        "test statistic:\n",
        "\n",
        "- $Ζ$ = $\\frac{𝑥̅ - 𝜇}{SE}$\n",
        "- $Ζ$ = $\\frac{4.6 - 5}{0.49}$ = <font color='green'> - 0.81</font>\n",
        "\n",
        "- <font color='blue'>**p-value** = **0.2**</font>\n",
        "\n",
        "So **0.2** > **0.05**.\n",
        "There is not enough evidence to **fail** the mayor's claim that the average child in the city takes at least 5 years of piano lessons.\n",
        "\n",
        "**<font color='orange' size='6px'>B)</font>**  \n",
        "\n",
        "The formula is:\n",
        "\n",
        "- 𝑥̅  ±  Z*SE\n",
        "\n",
        "So for 95%, **ℤ** is **-1.96**\n",
        "\n",
        "Then:\n",
        "\n",
        "- **<font color='green'>4.6 ± (-1.96) * 0.49 = (3.6396 , 5.5604)**</font>\n",
        "\n",
        "<font color='blue'>**Interpretation:**</font>\n",
        "- We are 95% confident that the true average number of years students in this city take piano lessons is between **3.6396** and **5.5604** years. This means that if we were to take multiple samples and construct confidence intervals for each sample, we would expect about 95% of those intervals to contain the true population mean.\n",
        "\n",
        "\n",
        "**<font color='orange' size='6px'>C)</font>**  \n",
        "- The results from the hypothesis test and the confidence interval do agree. The hypothesis test failed to reject the claim that the average child takes 5 years of piano lessons, and the confidence interval includes the claim of at least 5 years. Both analyses suggest that there is not enough evidence to dispute the mayor's claim about the average duration of piano lessons in the city."
      ],
      "metadata": {
        "id": "npVQavOs3-W3"
      }
    },
    {
      "cell_type": "markdown",
      "source": [
        "**<font color='red' size='5px'>Question 4</font>**\n",
        "\n",
        "A study suggests that the normal body temperature in degrees Fahrenheit is $98.6^o$. A doctor believes that this is an underestimate and decides to collect her own sample for a hypothesis test of 52 randomly chosen healthy adults. The body temperature of samples is measured with the following summary of the data:\n",
        "\n",
        "                    𝑛 = 52, 𝑥̅= 98.2846, 𝑠 = 0.6824\n",
        "\n",
        "\n",
        "- **Are the necessary conditions satisfied? Explain.**\n",
        "- **Write the null and alternative hypotheses.**\n",
        "- **Find a 98% confidence interval for the mean body temperature and make decision based on this confidence interval.**\n",
        "- **Give a two-side hypothesis test for a mean body temperature of 98.6o Fahrenheit and use the information above to evaluate a test with significance level α = 0.02.**\n",
        "\n",
        "**<font color='green' size=5px>Answer 👇:**</font>"
      ],
      "metadata": {
        "id": "iOE8DM4wECJi"
      }
    },
    {
      "cell_type": "markdown",
      "source": [
        "Given informations:\n",
        "\n",
        "- **SE** = $\\frac{s}{\\sqrt[]n}$ = $\\frac{0.6824}{\\sqrt[]52}$ = **0.0946**\n",
        "\n",
        "**<font color='orange' size='6px'>A)</font>**  \n",
        "\n",
        "- <font color='green'>**Yes.**</font>\n",
        "The first case is that the data were selected randomly and random sample/assignment was used. If the sampling is without placement, the data must be less than 10% of the total population, which is not stated, but if we assume that it is without placement, 52 random samples are very likely to be less than 10% of the total population.\n",
        "Regarding the distribution of the data, if the population distribution is normal or if the sample size is large enough (as in this case), the sampling distribution of the sample mean will be approximately normal due to the central limit theorem. Given that the sample was chosen randomly, we can assume that the data is independent and identically distributed.\n",
        "If it is relatively skewed, the sample should be more than 30, which in this test is 52>30.\n",
        "Therefore, based on the sample size and the assumption of random sampling, it appears that the necessary conditions for conducting a hypothesis test on the mean body temperature are satisfied in this\n",
        "scenario.\n",
        "\n",
        "So briefly:\n",
        "\n",
        "- <font color='blue'>**Random Sampling:**</font>\n",
        "\n",
        "   The data is collected from 52 randomly chosen healthy adults, which satisfies the random sampling condition.\n",
        "\n",
        "- <font color='blue'>**Independence:**</font>\n",
        "\n",
        " It is assumed that each individual's body temperature is independent of others, which is a reasonable assumption.\n",
        "\n",
        "\n",
        "- <font color='blue'>**Sample size/skew:**</font>\n",
        "\n",
        "  The sample size is relatively large (n = 52), which allows us to rely on the Central Limit Theorem. Therefore, the normality condition is satisfied.\n",
        "\n",
        "**<font color='orange' size='6px'>B)</font>**  \n",
        "\n",
        "<font color='blue'>**Null Hypothesis ($H_0$):**</font>\n",
        "- The average body temperature of healthy adults is 98.6°F.\n",
        "\n",
        "<font color='blue'>**Alternative Hypothesis ($H_a$):**</font>\n",
        "- The average body temperature of healthy adults is less than 98.6°F.\n",
        "\n",
        "**<font color='orange' size='6px'>C)</font>**  \n",
        "The formula for confidence interval is:\n",
        "- **CL = 𝑥̅  ±  Z*SE**\n",
        "\n",
        "Based on z table 98% = (2.32)\n",
        "\n",
        "So:\n",
        "\n",
        "- CL = 98.2846 ± (2.32)*(0.0946)\n",
        "- **CL** = <font color='green'>**(98.065128 , 98.504072)**</font>\n",
        "\n",
        "- Since the null hypothesis suggests that the average body temperature is 98.6°F, and the confidence interval does not contain this value, we can reject the null hypothesis. This means that there is enough evidence to suggest that the average body temperature is different from 98.6°F.\n",
        "\n",
        "**<font color='orange' size='6px'>D)</font>**  \n",
        "\n",
        "We can set up again null and alternative hypotheses:\n",
        "\n",
        "<font color='blue'>**Null Hypothesis ($H_0$):**</font>\n",
        "- The average body temperature of healthy adults is 98.6°F.\n",
        "\n",
        "<font color='blue'>**Alternative Hypothesis ($H_a$):**</font>\n",
        "- The average body temperature of healthy adults is not equal to 98.6°F.\n",
        "\n",
        "There is α = 0.02\n",
        "\n",
        "So let's start:\n",
        "\n",
        "- $Ζ$ = $\\frac{𝑥̅ - 𝜇}{SE}$\n",
        "\n",
        "- $Ζ$ = $\\frac{98.2846 - 98.6}{0.0946}$ = <font color='green'>**- 3.33**</font>\n",
        "\n",
        "- <font color='blue'>**p-value = 𝑃(𝒁 > 3.33) + 𝑃(𝒁 < -3.33)**</font>\n",
        "\n",
        "Based on 𝒁 table (-3.33) = <font color='green'>**00043**</font>\n",
        "\n",
        "- <font color='blue'>**p-value = 0.00043 + 0.00043**</font>\n",
        "\n",
        "- <font color='blue'>**p-value = 0.00086**</font>\n",
        "\n",
        "So **p-value** < **α** or **0.00086** < **0.02**\n",
        "\n",
        "That means we reject the hypothesis $H_0$ and we don't have enough evidence and data to confirm the null hypothesis, or in other words, we have enough data to confirm that normal body temperature is not equal to $98.6^oF$.\n",
        "\n"
      ],
      "metadata": {
        "id": "LQyZL0EDEd4f"
      }
    },
    {
      "cell_type": "markdown",
      "source": [
        "**<font color='red' size='5px'>Question 5</font>**\n",
        "\n",
        "A researcher designs a study to test the hypotheses $𝐻_0$: 𝜇 ≥ 28 versus $𝐻_a$: 𝜇 < 28. A random sample of 50 measurements from the population of interest yields 𝑦̅= 25.9 and 𝑠 = 5.6.\n",
        "\n",
        "- **Using 𝛼 = .05, what conclusions can you make about the hypotheses based on the sample information**?\n",
        "- **Calculate the probability of making a Type II error if the actual value of 𝜇 is at most 27.**\n",
        "- **Could you have possibly made a Type II error in your decision in part (a)? Explain your answer.**\n",
        "\n",
        "**<font color='green' size=5px>Answer 👇:**</font>"
      ],
      "metadata": {
        "id": "4c8Gv6wqr1Lf"
      }
    },
    {
      "cell_type": "markdown",
      "source": [
        "Given informations:\n",
        "\n",
        "- **n** = **50**\n",
        "- **𝑥̅** = **25.9**\n",
        "- **$\\sigma$** = **5.6**\n",
        "- **SE** = $\\frac{s}{\\sqrt[]n}$ = $\\frac{5.6}{\\sqrt[]50}$ = **0.792**\n",
        "\n",
        "**<font color='orange' size='6px'>A)</font>**  \n",
        "- $\\alpha$ = 0.05\n",
        "\n",
        "test statistic:\n",
        "\n",
        "- $Ζ$ = $\\frac{𝑥̅ - 𝜇}{SE}$\n",
        "- $Ζ$ = $\\frac{25.9 - 28}{0.792}$ = <font color='green'> - 2.65</font>\n",
        "\n",
        "- <font color='blue'>**p-value** = **0.00402**</font>\n",
        "\n",
        "So **0.00402** < **0.05**.\n",
        "\n",
        "We <font color='red'>**reject**</font> the null hypothesis $H_0$ and conclude that there is enough evidence to support the alternative hypothesis Ha that the population mean is less than 28.\n",
        "\n",
        "**<font color='orange' size='6px'>B)</font>**  \n",
        "\n",
        "Based on 𝒁 table, α = 0.05 is **1.64**\n",
        "one-sided test.\n",
        "\n",
        "- Type II error = <font color='navy'>**𝑷($\\frac{𝑥̅ - 28}{\\sqrt[]0.792}$ > 1.64 | 𝑥̅ ~ 𝑵(𝛍 = 27 , SE = 0.792))**</font>\n",
        "\n",
        "- **𝑷(𝑥̅ > 28 + (0.792) × (1.64) | 𝑥̅ ~ 𝑵(𝛍 = 27 , SE = 0.792))**\n",
        "\n",
        "- **𝑷(𝑥̅ > 29.2 | 𝑥̅ ~ 𝑵(𝛍 = 27 , SE = 0.792))**\n",
        "\n",
        "- **𝑷(𝜡 > $\\frac{29.2 - 27}{0.792}$)**\n",
        "\n",
        "- <font color='green'>**𝑷(𝜡 > 2.2) = 0.99720**</font>\n",
        "\n",
        "- β = 1 - power = <font color='green'>**0.0028**</font>\n",
        "\n",
        "Probability of Type II error is **0.0028**.\n",
        "\n",
        "**<font color='orange' size='6px'>C)</font>**  \n",
        "- <font color='red'>**No.**</font> In part (a), we rejected the null hypothesis based on the sample information, concluding that there was sufficient evidence to support the alternative hypothesis that the population mean is less than 28.\n",
        "\n",
        "  A Type II error occurs when we fail to reject the null hypothesis when it is actually false. In this case, the null hypothesis being false means that the true population mean is indeed less than 28, which is consistent with the alternative hypothesis.\n",
        "\n",
        "  Given that we rejected the null hypothesis and concluded that the population mean is less than 28, it's not possible to make a Type II error in this scenario. This is because a Type II error would involve failing to reject the null hypothesis (i.e., accepting that the population mean is greater than or equal to 28) when it's actually false (i.e., the population mean is less than 28). Since we did reject the null hypothesis, there is no opportunity for a Type II error in this decision."
      ],
      "metadata": {
        "id": "asaAK6Q2sEZr"
      }
    },
    {
      "cell_type": "markdown",
      "source": [
        "**<font color='red' size='5px'>Question 6</font>**\n",
        "\n",
        "Refer to the previous exercise (Ex. 5). Sketch the power curve for rejecting 𝐻0: 𝜇 ≥ 28 by determining (𝜇a) for the following values of 𝜇: 22, 23, 24, 25, 26, and 27.\n",
        "- **Interpret the power values displayed in your graph.**\n",
        "- **Suppose we keep 𝑛 = 50 but change to 𝛼 = .01. Without actually recalculating the values for (𝜇a), sketch on the same graph as your original power curve, the new power curve for 𝑛 = 50 and 𝛼 = .01.**\n",
        "- **Suppose we keep 𝛼 = .05 but change to 𝑛 = 20. Without actually recalculating the values for 𝑃𝑊𝑅(𝜇a), sketch on the same graph as your original power curve the new power curve for 𝑛 = 20 and 𝛼 = .05.**\n",
        "\n",
        "**<font color='green' size=5px>Answer 👇:**</font>"
      ],
      "metadata": {
        "id": "eQ-8_on2MPT4"
      }
    },
    {
      "cell_type": "markdown",
      "source": [
        "**<font color='orange' size='6px'>A)</font>**  "
      ],
      "metadata": {
        "id": "39ZixiNZMaXm"
      }
    },
    {
      "cell_type": "code",
      "source": [
        "# Define the parameters\n",
        "mu_values <- c(22, 23, 24, 25, 26, 27)\n",
        "alpha <- 0.05\n",
        "n <- 50\n",
        "sigma <- 5.6\n",
        "\n",
        "# Calculate the critical t-value for rejection\n",
        "critical_t <- qt(alpha, df = n-1, lower.tail = TRUE)\n",
        "\n",
        "# Calculate the power for each value of mu\n",
        "power_values <- pnorm((critical_t - (mu_values - 28) / (sigma / sqrt(n))), lower.tail = TRUE)\n",
        "\n",
        "# Plot the power curve\n",
        "plot(mu_values, power_values, type = \"b\", xlab = \"True Population Mean (mu)\", ylab = \"Power\",\n",
        "     main = \"Power Curve for Rejecting H0: mu >= 28\")"
      ],
      "metadata": {
        "colab": {
          "base_uri": "https://localhost:8080/",
          "height": 437
        },
        "id": "XNP68PPEuvVf",
        "outputId": "6149d4ea-b003-4f94-92ff-b071b7b2e1df"
      },
      "execution_count": 15,
      "outputs": [
        {
          "output_type": "display_data",
          "data": {
            "text/plain": [
              "Plot with title “Power Curve for Rejecting H0: mu >= 28”"
            ],
            "image/png": "[encoded data removed]"
          },
          "metadata": {
            "image/png": {
              "width": 420,
              "height": 420
            }
          }
        }
      ]
    },
    {
      "cell_type": "markdown",
      "source": [
        "<font color='blue' size='5px'>**Interpretation**</font>\n",
        "\n",
        "- The beta is bigger (correspondingly, the power is smaller) the closer the actual mean is to the average value of $H_0$. For the value of 27, the power is small and the beta is large, but for the value of 24, the power is one and the beta is zero, which means that we can definitely reject $H_0$ and type 2 error will not occur. When the power for a type 2 error is 1, it means that the probability of failing to reject a false null hypothesis is 0. This indicates that the test is not sensitive at all and will always fail to reject a false null hypothesis. A power of 1 for a type 2 error implies that the test is overly conservative and does not have the ability to detect a true effect when it actually exists."
      ],
      "metadata": {
        "id": "qF8_jN6GVk8E"
      }
    },
    {
      "cell_type": "markdown",
      "source": [
        "**<font color='orange' size='6px'>B)</font>**  \n"
      ],
      "metadata": {
        "id": "rY_-5rzYqE3Q"
      }
    },
    {
      "cell_type": "code",
      "source": [
        "# Define the parameters\n",
        "alpha_1 <- 0.05\n",
        "alpha_2 <- 0.01\n",
        "n <- 50\n",
        "sigma <- 5.6\n",
        "\n",
        "# Calculate the critical t-value for rejection for alpha = 0.05 and alpha = 0.01\n",
        "critical_t_alpha_1 <- qt(alpha_1, df = n-1, lower.tail = TRUE)\n",
        "critical_t_alpha_2 <- qt(alpha_2, df = n-1, lower.tail = TRUE)\n",
        "\n",
        "# Calculate the power for each value of mu for alpha = 0.05 and alpha = 0.01\n",
        "power_values_alpha_1 <- pnorm((critical_t_alpha_1 - (mu_values - 28) / (sigma / sqrt(n))), lower.tail = TRUE)\n",
        "power_values_alpha_2 <- pnorm((critical_t_alpha_2 - (mu_values - 28) / (sigma / sqrt(n))), lower.tail = TRUE)\n",
        "\n",
        "# Plot the power curves for both alpha levels on the same graph\n",
        "plot(mu_values, power_values_alpha_1, type = \"b\", xlab = \"True Population Mean (mu)\", ylab = \"Power\",\n",
        "     main = \"Power Curve Comparison for Rejecting H0: mu >= 28\")\n",
        "points(mu_values, power_values_alpha_2, col = \"red\", pch = 20)\n",
        "legend(\"topright\", legend = c(\"Alpha = 0.05\", \"Alpha = 0.01\"), col = c(\"black\", \"red\"), pch = c(1, 20))"
      ],
      "metadata": {
        "colab": {
          "base_uri": "https://localhost:8080/",
          "height": 437
        },
        "id": "oHk1XL0wqFLo",
        "outputId": "6b797785-6b21-4c13-cdb8-8872c247b1df"
      },
      "execution_count": 16,
      "outputs": [
        {
          "output_type": "display_data",
          "data": {
            "text/plain": [
              "Plot with title “Power Curve Comparison for Rejecting H0: mu >= 28”"
            ],
            "image/png": "[encoded data removed]"
          },
          "metadata": {
            "image/png": {
              "width": 420,
              "height": 420
            }
          }
        }
      ]
    },
    {
      "cell_type": "markdown",
      "source": [
        "**<font color='orange' size='6px'>C)</font>**  \n"
      ],
      "metadata": {
        "id": "-QKD2lABqFVi"
      }
    },
    {
      "cell_type": "code",
      "source": [
        "# Define the parameters for the new scenario\n",
        "n_new <- 20\n",
        "\n",
        "# Calculate the critical t-value for rejection for the new scenario\n",
        "critical_t_new <- qt(alpha, df = n_new-1, lower.tail = TRUE)\n",
        "\n",
        "# Calculate the power for each value of mu for the new scenario\n",
        "power_values_new <- pnorm((critical_t_new - (mu_values - 28) / (sigma / sqrt(n_new))), lower.tail = TRUE)\n",
        "\n",
        "# Plot the original power curve and the new power curve on the same graph\n",
        "plot(mu_values, power_values, type = \"b\", col = \"blue\", xlab = \"True Population Mean (mu)\", ylab = \"Power\",\n",
        "     main = \"Power Curve Comparison for n = 50 and n = 20\")\n",
        "points(mu_values, power_values_new, col = \"red\", pch = 20)\n",
        "legend(\"topright\", legend = c(\"n = 50\", \"n = 20\"), col = c(\"blue\", \"red\"), pch = c(1, 20))"
      ],
      "metadata": {
        "colab": {
          "base_uri": "https://localhost:8080/",
          "height": 437
        },
        "id": "dsXdIXlaqF3I",
        "outputId": "9303fff5-2fcc-4f52-8af9-a083aa5c28b5"
      },
      "execution_count": 17,
      "outputs": [
        {
          "output_type": "display_data",
          "data": {
            "text/plain": [
              "Plot with title “Power Curve Comparison for n = 50 and n = 20”"
            ],
            "image/png": "[encoded data removed]"
          },
          "metadata": {
            "image/png": {
              "width": 420,
              "height": 420
            }
          }
        }
      ]
    },
    {
      "cell_type": "markdown",
      "source": [
        "**<font color='red' size='5px'>Question 7</font>**\n",
        "\n",
        "7- <font color='blue'>(R)</font> For this question, use the dataset \"Galton\" placed next to the exercise. This dataset includes the height of children and their parents. (Assume that the standard deviation of the society is unknown)\n",
        "\n",
        "Use the height of the children:\n",
        "- **Generate 20000 samples of size 60 using sampling. Then calculate the 97% confidence interval for each of these samples. What percentage of the intervals include the real mean of the society?**\n",
        "- **Repeat the above test for 10000 samples with size 10. This time, calculate the 90% confidence interval. What is your conclusion about these two tests?**\n",
        "\n",
        "Now use the height of the father:\n",
        "- **Separate a sample with the size of 70 data from the mentioned data. Then check the following assumption and calculate the power.**\n",
        "1. 𝐻0: 𝜇=60\n",
        "2. 𝐻𝐴: 𝜇 ≠60\n",
        "- **Now, isolate a sample of 10 data and repeat the above test and report the results.**\n",
        "- **What do you get from comparing the above results?**\n",
        "\n",
        "**<font color='green' size=5px>Answer 👇:**</font>"
      ],
      "metadata": {
        "id": "aMnDmSfEv9zs"
      }
    },
    {
      "cell_type": "markdown",
      "source": [
        "**<font color='orange' size='6px'>A)</font>**  "
      ],
      "metadata": {
        "id": "813QCKU_t-6y"
      }
    },
    {
      "cell_type": "code",
      "source": [
        "library(dplyr)\n",
        "\n",
        "# Read the Galton dataset from the text file\n",
        "galton <- read.table(\"Galton.txt\", header = TRUE)"
      ],
      "metadata": {
        "id": "0mjqJSI2q9lh"
      },
      "execution_count": 140,
      "outputs": []
    },
    {
      "cell_type": "code",
      "source": [
        "galton <- data.frame(galton)"
      ],
      "metadata": {
        "id": "oNgaHPbhuCKX"
      },
      "execution_count": 141,
      "outputs": []
    },
    {
      "cell_type": "code",
      "source": [
        "child_height <- galton$Height"
      ],
      "metadata": {
        "id": "7Mjm_CMysks6"
      },
      "execution_count": 142,
      "outputs": []
    },
    {
      "cell_type": "code",
      "source": [
        "# Define parameters\n",
        "num_samples <- 20000\n",
        "size_samples <- 60\n",
        "confidence_level <- 0.97"
      ],
      "metadata": {
        "id": "lEd2seectKmy"
      },
      "execution_count": 143,
      "outputs": []
    },
    {
      "cell_type": "code",
      "source": [
        "set.seed(123)\n",
        "\n",
        "# Calculate confidence interval\n",
        "calculate_ci <- function(sample_data, confidence_level) {\n",
        "  sample_mean <- mean(sample_data)\n",
        "  sample_sd <- sd(sample_data)\n",
        "  sample_length <- length(sample_data)\n",
        "  sample_se <- sample_sd / sqrt(sample_length)\n",
        "  t_score <- qt(confidence_level,num_samples - 1)\n",
        "  margin_error <- t_score * sample_se\n",
        "  lower_bound <- sample_mean - margin_error\n",
        "  upper_bound <- sample_mean + margin_error\n",
        "  return(c(lower_bound, upper_bound))\n",
        "}"
      ],
      "metadata": {
        "id": "77uqswxxzgMq"
      },
      "execution_count": 144,
      "outputs": []
    },
    {
      "cell_type": "code",
      "source": [
        "# Checking how much of the true mean is within the confidence interval\n",
        "check_interval_in_real_mean <- function(ci,real_mean) {\n",
        "  if (real_mean >= ci[1] && real_mean <= ci[2]){\n",
        "    return(TRUE)\n",
        "  } else {\n",
        "    return(FALSE)\n",
        "  }\n",
        "}"
      ],
      "metadata": {
        "id": "vj58syl03P1J"
      },
      "execution_count": 145,
      "outputs": []
    },
    {
      "cell_type": "code",
      "source": [
        "percentage_intervals <- 0\n",
        "for(i in 1:num_samples) {\n",
        "    sample_data <- sample(child_height, size = size_samples)\n",
        "    ci <- calculate_ci(sample_data, confidence_level)\n",
        "    if (check_mean_in_ci(ci, mean(child_height))) {\n",
        "      percentage_intervals <- percentage_intervals + 1\n",
        "  }\n",
        "}"
      ],
      "metadata": {
        "id": "2YeMp9IMtKju"
      },
      "execution_count": 146,
      "outputs": []
    },
    {
      "cell_type": "code",
      "source": [
        "percentage_include_mean <- percentage_intervals / num_samples * 100\n",
        "cat(\"Percentage of intervals including the real mean of the society (sample size 60):\", percentage_include_mean, \"%\\n\")"
      ],
      "metadata": {
        "colab": {
          "base_uri": "https://localhost:8080/"
        },
        "id": "4mbTqj7F5N3k",
        "outputId": "d1d00275-8c02-4f89-d551-17b2511d263d"
      },
      "execution_count": 147,
      "outputs": [
        {
          "output_type": "stream",
          "name": "stdout",
          "text": [
            "Percentage of intervals including the real mean of the society (sample size 60): 94.25 %\n"
          ]
        }
      ]
    },
    {
      "cell_type": "markdown",
      "source": [
        "**<font color='orange' size='6px'>B)</font>**  "
      ],
      "metadata": {
        "id": "EsJxCIMIt_OX"
      }
    },
    {
      "cell_type": "code",
      "source": [
        "num_samples <- 10000\n",
        "size_samples <- 10\n",
        "confidence_level <- 0.90"
      ],
      "metadata": {
        "id": "Vqp3tN3PHxfc"
      },
      "execution_count": 158,
      "outputs": []
    },
    {
      "cell_type": "code",
      "source": [
        "set.seed(123)\n",
        "\n",
        "calculate_ci <- function(sample_data, confidence_level) {\n",
        "  sample_mean <- mean(sample_data)\n",
        "  sample_sd <- sd(sample_data)\n",
        "  sample_length <- length(sample_data)\n",
        "  sample_se <- sample_sd / sqrt(sample_length)\n",
        "  t_score <- qt(confidence_level,num_samples - 1)\n",
        "  margin_error <- t_score * sample_se\n",
        "  lower_bound <- sample_mean - margin_error\n",
        "  upper_bound <- sample_mean + margin_error\n",
        "  return(c(lower_bound, upper_bound))\n",
        "}"
      ],
      "metadata": {
        "id": "54duhdLRHqEQ"
      },
      "execution_count": 159,
      "outputs": []
    },
    {
      "cell_type": "code",
      "source": [
        "check_interval_in_real_mean <- function(ci,real_mean) {\n",
        "  if (real_mean >= ci[1] && real_mean <= ci[2]){\n",
        "    return(TRUE)\n",
        "  } else {\n",
        "    return(FALSE)\n",
        "  }\n",
        "}"
      ],
      "metadata": {
        "id": "WJXUAYldHqEe"
      },
      "execution_count": 160,
      "outputs": []
    },
    {
      "cell_type": "code",
      "source": [
        "percentage_intervals <- 0\n",
        "for(i in 1:num_samples) {\n",
        "    sample_data <- sample(child_height, size = size_samples)\n",
        "    ci <- calculate_ci(sample_data, confidence_level)\n",
        "    if (check_mean_in_ci(ci, mean(child_height))) {\n",
        "      percentage_intervals <- percentage_intervals + 1\n",
        "  }\n",
        "}"
      ],
      "metadata": {
        "id": "Ny8oFl5KHqEe"
      },
      "execution_count": 161,
      "outputs": []
    },
    {
      "cell_type": "code",
      "source": [
        "percentage_include_mean <- percentage_intervals / num_samples * 100\n",
        "cat(\"Percentage of intervals including the real mean of the society (sample size 10):\", percentage_include_mean, \"%\\n\")"
      ],
      "metadata": {
        "colab": {
          "base_uri": "https://localhost:8080/"
        },
        "outputId": "9ffa60ef-8212-4430-80ec-4de05bb17cab",
        "id": "zqL5uO2pHqEf"
      },
      "execution_count": 162,
      "outputs": [
        {
          "output_type": "stream",
          "name": "stdout",
          "text": [
            "Percentage of intervals including the real mean of the society (sample size 10): 78.03 %\n"
          ]
        }
      ]
    },
    {
      "cell_type": "markdown",
      "source": [
        "**What is your conclusion about these two tests?**\n",
        "\n",
        "- <font color='blue'>**The smaller the confidence interval is, the lower the true mean value is in the generated intervals. For the 95% confidence interval, we are 95% sure that 94.25% of the intervals have the true mean value, and for 90% this value reaches 78.03%. Also, as the sample size decreases, this amount also decreases. So, by increasing the confidence interval, we can say with more confidence that the real average value is in the produced intervals**</font>\n"
      ],
      "metadata": {
        "id": "26ivTSs5P68_"
      }
    },
    {
      "cell_type": "markdown",
      "source": [
        "**<font color='orange' size='6px'>C)</font>**  "
      ],
      "metadata": {
        "id": "o6txW48et_6K"
      }
    },
    {
      "cell_type": "code",
      "source": [
        "install.packages(\"pwr\")\n",
        "library(pwr)"
      ],
      "metadata": {
        "colab": {
          "base_uri": "https://localhost:8080/"
        },
        "id": "smtJTSE8I1h9",
        "outputId": "81166f3b-6870-499a-fd04-994b1890c449"
      },
      "execution_count": 131,
      "outputs": [
        {
          "output_type": "stream",
          "name": "stderr",
          "text": [
            "Installing package into ‘/usr/local/lib/R/site-library’\n",
            "(as ‘lib’ is unspecified)\n",
            "\n"
          ]
        }
      ]
    },
    {
      "cell_type": "code",
      "source": [
        "# Extract the father's height data\n",
        "father_heights <- galton$Father\n",
        "\n",
        "# Set the seed for reproducibility\n",
        "set.seed(42)\n",
        "\n",
        "# Sample size\n",
        "sample_size <- 70\n",
        "\n",
        "# Sample from the father's height data\n",
        "sample <- sample(father_heights, size = sample_size, replace = FALSE)\n",
        "\n",
        "# Set the null and alternative hypotheses\n",
        "mu_0 <- 60\n",
        "alpha <- 0.05\n",
        "alternative_mean <- mean(sample)\n",
        "\n",
        "# Perform the two-tailed t-test\n",
        "t_test <- t.test(sample, mu = mu_0)\n",
        "\n",
        "# Calculate the critical t-value\n",
        "t_critical <- qt(1 - alpha/2, df = sample_size - 1)\n",
        "\n",
        "# Calculate the effect size\n",
        "effect_size <- (alternative_mean - mu_0) / sd(sample)\n",
        "\n",
        "# Calculate the power of the test\n",
        "power <- power.t.test(n = sample_size, delta = effect_size, sd = sd(sample), sig.level = alpha, type = \"two.sample\")$power\n",
        "\n",
        "print(paste(\"t-statistic:\", t_test$statistic))\n",
        "print(paste(\"p-value:\", t_test$p.value))\n",
        "print(paste(\"Critical t-value:\", t_critical))\n",
        "print(paste(\"Power of the test:\", power))"
      ],
      "metadata": {
        "colab": {
          "base_uri": "https://localhost:8080/"
        },
        "id": "fFTnzUIHN-Ii",
        "outputId": "5dd35cd0-9955-412d-b8fa-46e023f77042"
      },
      "execution_count": 138,
      "outputs": [
        {
          "output_type": "stream",
          "name": "stdout",
          "text": [
            "[1] \"t-statistic: 27.0909297480905\"\n",
            "[1] \"p-value: 1.6943736271273e-38\"\n",
            "[1] \"Critical t-value: 1.99494541510724\"\n",
            "[1] \"Power of the test: 0.999998741364954\"\n"
          ]
        }
      ]
    },
    {
      "cell_type": "markdown",
      "source": [
        "**<font color='orange' size='6px'>D)</font>**  "
      ],
      "metadata": {
        "id": "Q-0M6GXnuAxS"
      }
    },
    {
      "cell_type": "code",
      "source": [
        "# Sample size\n",
        "sample_size <- 10\n",
        "\n",
        "# Sample from the father's height data\n",
        "sample <- sample(father_heights, size = sample_size, replace = FALSE)\n",
        "\n",
        "# Set the null and alternative hypotheses\n",
        "mu_0 <- 60\n",
        "alpha <- 0.05\n",
        "alternative_mean <- mean(sample)\n",
        "\n",
        "# Perform the two-tailed t-test\n",
        "t_test <- t.test(sample, mu = mu_0)\n",
        "\n",
        "# Calculate the critical t-value\n",
        "t_critical <- qt(1 - alpha/2, df = sample_size - 1)\n",
        "\n",
        "# Calculate the effect size\n",
        "effect_size <- (alternative_mean - mu_0) / sd(sample)\n",
        "\n",
        "# Calculate the power of the test\n",
        "power <- power.t.test(n = sample_size, delta = effect_size, sd = sd(sample), sig.level = alpha, type = \"two.sample\")$power\n",
        "\n",
        "print(paste(\"t-statistic:\", t_test$statistic))\n",
        "print(paste(\"p-value:\", t_test$p.value))\n",
        "print(paste(\"Critical t-value:\", t_critical))\n",
        "print(paste(\"Power of the test:\", power))"
      ],
      "metadata": {
        "colab": {
          "base_uri": "https://localhost:8080/"
        },
        "id": "IYvBSYaOJjQ3",
        "outputId": "7087120c-8fcd-470b-bd08-b3b35582c592"
      },
      "execution_count": 139,
      "outputs": [
        {
          "output_type": "stream",
          "name": "stdout",
          "text": [
            "[1] \"t-statistic: 12.8433151472378\"\n",
            "[1] \"p-value: 4.30879441559551e-07\"\n",
            "[1] \"Critical t-value: 2.2621571627982\"\n",
            "[1] \"Power of the test: 0.95796671235744\"\n"
          ]
        }
      ]
    },
    {
      "cell_type": "markdown",
      "source": [
        "**<font color='orange' size='6px'>E)</font>**  "
      ],
      "metadata": {
        "id": "s8RTAFSguBIq"
      }
    },
    {
      "cell_type": "markdown",
      "source": [
        "- <font color='blue'>**The larger the sample size, the smaller the standard deviation, which causes z to become larger, and the larger z becomes, the power becomes larger, and the test has a very high probability of correctly rejecting the null hypothesis. In other words, the power of 0.999 for a sample size of 70 shows that the test has a very high probability of correctly rejecting the null hypothesis when the alternative hypothesis is true. This means a strong ability to detect a significant difference if it exists in the population. On the other hand, a power of 0.95 for a sample size of 10 indicates that the test has a slightly lower probability of correctly rejecting the null hypothesis when the alternative hypothesis is true. This suggests a reduced power to detect a significant difference with smaller sample sizes. In general, a larger sample size provides more reliable and stronger results in statistical tests compared to a smaller sample size. As the sample size increases, the power of the test increases and provides a better chance of detecting true effects if they exist in the population.**</font>"
      ],
      "metadata": {
        "id": "mELxssfhSlog"
      }
    }
  ]
}